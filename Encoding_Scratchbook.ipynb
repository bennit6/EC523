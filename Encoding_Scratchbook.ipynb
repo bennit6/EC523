{
 "cells": [
  {
   "cell_type": "markdown",
   "metadata": {},
   "source": [
    "Import and Initialization"
   ]
  },
  {
   "cell_type": "code",
   "execution_count": null,
   "metadata": {},
   "outputs": [],
   "source": [
    "import dataprocess as dp\n",
    "import transformers\n",
    "from sklearn.model_selection import train_test_split\n",
    "import numpy as np\n",
    "import torch\n",
    "import torch.nn as nn\n",
    "import torch.nn.functional as F\n",
    "import matplotlib.pyplot as plt\n",
    "from torch.optim.lr_scheduler import ExponentialLR\n",
    "from modelhelper import MSE_Vec_matrix\n",
    "from modelhelper import Net\n",
    "from modelhelper import F_score\n",
    "import torch\n",
    "from torchvision import models\n",
    "\n",
    "device = torch.device(\"cuda\" if torch.cuda.is_available() else \"cpu\")"
   ]
  },
  {
   "cell_type": "markdown",
   "metadata": {},
   "source": [
    "Calculates the accuracy of the model based on top two prediction"
   ]
  },
  {
   "cell_type": "code",
   "execution_count": null,
   "metadata": {},
   "outputs": [],
   "source": [
    "def accuracy(net, input_id, labels):\n",
    "    j = len(labels)\n",
    "\n",
    "    # calculate class from most probable to least probable\n",
    "    guesses = torch.argsort(net(input_id), dim=1, descending=True)\n",
    "\n",
    "    # get labels\n",
    "    current_real = labels.clone().detach()\n",
    "\n",
    "    # calculates number of top 1 and top 2 predictions\n",
    "    top1_acc = torch.sum(current_real==guesses[:,0])\n",
    "    top2_acc = torch.sum(current_real==guesses[:,1])\n",
    "\n",
    "    # calculates accuracies\n",
    "    accuracy_1 = top1_acc / j\n",
    "    accuracy_2 = (top2_acc + top1_acc) / j\n",
    "\n",
    "    return accuracy_1.item(), accuracy_2.item()"
   ]
  },
  {
   "cell_type": "markdown",
   "metadata": {},
   "source": [
    "Load in pre-encoded data and extract work data and lables."
   ]
  },
  {
   "cell_type": "code",
   "execution_count": null,
   "metadata": {},
   "outputs": [],
   "source": [
    "data = dp.unpickle_data(\"reviews_Electronics_5_7_encoded.pickle\")\n",
    "sentences = data['reviewText']\n",
    "labels = data['overall']"
   ]
  },
  {
   "cell_type": "markdown",
   "metadata": {},
   "source": [
    "Partions data into validation, test and train."
   ]
  },
  {
   "cell_type": "code",
   "execution_count": null,
   "metadata": {},
   "outputs": [],
   "source": [
    "X_train, X_test, y_train, y_test = train_test_split(sentences, labels, test_size=0.1, random_state=42, stratify=labels)\n",
    "X_test, X_val, y_test, y_val = train_test_split(X_test, y_test, test_size=0.5, random_state=42, stratify=y_test)\n",
    "\n",
    "X_test = X_test.clone().detach()\n",
    "y_test = torch.tensor(y_test).cuda()\n",
    "\n",
    "for i in range(len(y_test)):\n",
    "    y_test[i] = y_test[i] - 1 \n",
    "\n",
    "X_train = X_train.clone().detach()\n",
    "y_train = torch.tensor(y_train)"
   ]
  },
  {
   "cell_type": "markdown",
   "metadata": {},
   "source": [
    "Unbiasses data"
   ]
  },
  {
   "cell_type": "code",
   "execution_count": null,
   "metadata": {},
   "outputs": [],
   "source": [
    "rev1 = X_train[y_train==1]\n",
    "rev2 = X_train[y_train==2]\n",
    "rev3 = X_train[y_train==3]\n",
    "rev4 = X_train[y_train==4]\n",
    "rev5 = X_train[y_train==5]\n",
    "\n",
    "training_points = min(len(rev1), len(rev2), len(rev3), len(rev4), len(rev5))\n",
    "\n",
    "rev1 = rev1 [:training_points]\n",
    "rev2 = rev2 [:training_points]\n",
    "rev3 = rev3 [:training_points]\n",
    "rev4 = rev4 [:training_points]\n",
    "rev5 = rev5 [:training_points]\n",
    "\n",
    "indicies = torch.randperm(training_points * 5)\n",
    "\n",
    "X_train = torch.cat((rev1, rev2, rev3, rev4, rev5), dim=0)[indicies, :]\n",
    "base = torch.zeros(training_points)\n",
    "y_train = torch.cat((base,base+1,base+2,base+3,base+4))[indicies]\n"
   ]
  },
  {
   "cell_type": "markdown",
   "metadata": {},
   "source": [
    "The cell below handles all the MLP Variables\n",
    "$$\n",
    "\\gamma = \\left( \\frac{\\alpha}{\\beta} \\right)^{\\frac{1}{e}}\n",
    "$$\n",
    "\n",
    "gamma is decay rate\n",
    "\n",
    "beta is start learning rate\n",
    "\n",
    "alpha is ending learning rate\n",
    "\n",
    "e is number of epochs"
   ]
  },
  {
   "cell_type": "code",
   "execution_count": null,
   "metadata": {},
   "outputs": [],
   "source": [
    "NUM_EPOCH = 1000\n",
    "batch_size = 500\n",
    "\n",
    "# Learning Rate Decay\n",
    "LR_START  = 1e-1\n",
    "LR_END    = 1e-3\n",
    "LR_GAMMA  = (LR_END/LR_START)**(1/NUM_EPOCH)\n",
    "\n",
    "dropout = 0.2\n",
    "hidden_layers = [768,500,600,300,400,100,200,70,20,5]\n",
    "activation_func = F.relu\n",
    "\n",
    "batch_norm = True\n",
    "\n",
    "net = Net(  h_sizes=hidden_layers,\n",
    "            dropout=dropout, \n",
    "            activation=activation_func,\n",
    "            batch_norm=batch_norm).to(device)\n",
    "\n",
    "print(net)\n",
    "\n",
    "optimizer = torch.optim.SGD(net.parameters(), lr=LR_START, momentum=0.9)\n",
    "criterion = torch.nn.MSELoss().to(device)\n",
    "scheduler = ExponentialLR(optimizer, gamma=LR_GAMMA)"
   ]
  },
  {
   "cell_type": "code",
   "execution_count": null,
   "metadata": {},
   "outputs": [],
   "source": [
    "X_train = X_train.to(device)\n",
    "y_train = y_train.long().to(device)\n",
    "X_test  = X_test.to(device)\n",
    "y_test  = y_test.long().cuda()"
   ]
  },
  {
   "cell_type": "markdown",
   "metadata": {},
   "source": [
    "Training loop"
   ]
  },
  {
   "cell_type": "code",
   "execution_count": null,
   "metadata": {
    "scrolled": false
   },
   "outputs": [],
   "source": [
    "indecies = torch.tensor(range(batch_size))\n",
    "\n",
    "train_losses = []\n",
    "test_losses = []\n",
    "accuracy1 = []\n",
    "accuracy2 = []\n",
    "for epoch in range(NUM_EPOCH):\n",
    "    running_loss = 0.0\n",
    "    net.train()\n",
    "    for i in range(len(y_train)//batch_size):\n",
    "    #for i in range(1):\n",
    "        select = batch_size * i + indecies\n",
    "        optimizer.zero_grad()\n",
    "        outputs = net(X_train[select,:])\n",
    "\n",
    "        # MSE Loss\n",
    "        loss = criterion(outputs, F.one_hot(y_train[select],num_classes=5).float())\n",
    "\n",
    "        # Cross Entropy Loss\n",
    "#         loss = criterion(outputs, y_train[select].float())\n",
    "\n",
    "        loss.backward()\n",
    "        optimizer.step()\n",
    "        # print statistics\n",
    "        running_loss += loss.item()\n",
    "\n",
    "    net.eval()\n",
    "    with torch.no_grad():\n",
    "        # MSE\n",
    "        # training_loss = criterion(net(X_test),MSE_vec[y_test.long()]).item()\n",
    "\n",
    "        # Cross Entropy\n",
    "        net_test= net.cpu()\n",
    "        guesses = net_test(X_test.cpu()).detach()\n",
    "        training_loss = criterion(guesses, F.one_hot(y_test,num_classes=5).cpu())\n",
    "\n",
    "        ac1,ac2 = accuracy(net_test, X_test.cpu(), y_test.cpu())\n",
    "        accuracy1.append(ac1)\n",
    "        accuracy2.append(ac2)\n",
    "        net.cuda()\n",
    "        if round(ac1*100) >= 60 and epoch > 10:\n",
    "            break\n",
    "\n",
    "    print('[%d] loss: %.3f \\t test loss: %.3f \\t val_ac1: %.2f \\t val_ac2: %.2f' %\n",
    "    (epoch + 1, running_loss, training_loss*10,ac1,ac2))\n",
    "    scheduler.step()\n",
    "    \n",
    "    train_losses.append(running_loss)\n",
    "    test_losses.append(training_loss)\n",
    "    running_loss = 0.0"
   ]
  },
  {
   "cell_type": "markdown",
   "metadata": {},
   "source": [
    "Displays training results"
   ]
  },
  {
   "cell_type": "code",
   "execution_count": null,
   "metadata": {},
   "outputs": [],
   "source": [
    "print('Finished Training')\n",
    "plt.plot(train_losses)\n",
    "plt.figure()\n",
    "plt.plot(torch.tensor(test_losses).cpu().numpy())\n",
    "plt.figure()\n",
    "plt.plot(accuracy1)\n",
    "plt.figure()\n",
    "plt.plot(accuracy2)"
   ]
  },
  {
   "cell_type": "markdown",
   "metadata": {},
   "source": [
    "Print confussion matrix"
   ]
  },
  {
   "cell_type": "code",
   "execution_count": null,
   "metadata": {},
   "outputs": [],
   "source": [
    "F_score(net.cpu(),X_val.cpu(),y_val_new.cpu())"
   ]
  }
 ],
 "metadata": {
  "colab": {
   "collapsed_sections": [],
   "name": "Encoding_Scratchbook.ipynb",
   "provenance": []
  },
  "kernelspec": {
   "display_name": "Python 3 (ipykernel)",
   "language": "python",
   "name": "python3"
  },
  "language_info": {
   "codemirror_mode": {
    "name": "ipython",
    "version": 3
   },
   "file_extension": ".py",
   "mimetype": "text/x-python",
   "name": "python",
   "nbconvert_exporter": "python",
   "pygments_lexer": "ipython3",
   "version": "3.10.4"
  }
 },
 "nbformat": 4,
 "nbformat_minor": 1
}
