{
 "cells": [
  {
   "cell_type": "code",
   "execution_count": 1,
   "metadata": {},
   "outputs": [
    {
     "name": "stderr",
     "output_type": "stream",
     "text": [
      "[nltk_data] Downloading package stopwords to /home/mitch/nltk_data...\n",
      "[nltk_data]   Package stopwords is already up-to-date!\n",
      "[nltk_data] Downloading package stopwords to /home/mitch/nltk_data...\n",
      "[nltk_data]   Package stopwords is already up-to-date!\n"
     ]
    }
   ],
   "source": [
    "import dataprocess as dp\n",
    "import transformers\n",
    "from sklearn.model_selection import train_test_split\n",
    "import torch\n",
    "import numpy as np\n",
    "import torch\n",
    "import torch.nn as nn\n",
    "import torch.nn.functional as F\n",
    "import matplotlib.pyplot as plt\n",
    "from torch.optim.lr_scheduler import ExponentialLR\n",
    "from modelhelper import MSE_Vec_matrix,gen_MSE_Vec\n",
    "import modelhelper\n",
    "\n",
    "#TODO Normalize Xtest\n",
    "#Make our own loss function\n",
    "\n",
    "# Hyperparameters\n",
    "# Batch Size, Num Epochs, Learning Rate, Momentum, FC Layer, Activation Function\n",
    "\n",
    "\n",
    "# 0 Lowercase & N2W\n",
    "# 1 Contractions\n",
    "# 2 Remove Punctutations\n",
    "# 3 Strop Words\n",
    "\n",
    "num_training = 1000000\n",
    "\n",
    "device = torch.device(\"cuda\" if torch.cuda.is_available() else \"cpu\")\n",
    "\n",
    "def accuracy(net, input_id, labels):\n",
    "    j = len(labels)\n",
    "\n",
    "    guesses = torch.argsort(net(input_id), dim=1, descending=True)\n",
    "#     print(\"GUESS: \", guesses[:,0])\n",
    "\n",
    "    # guess1 = torch.argmax(guesses, dim=1)\n",
    "    # guess2 = torch.argsort(guesses, dim=1)[-2]\n",
    "\n",
    "\n",
    "    # current_real = torch.tensor(labels)\n",
    "    current_real = labels.clone().detach()\n",
    "#     print(\"LABEL: \", current_real)\n",
    "\n",
    "    top1_acc = torch.sum(current_real==guesses[:,0])\n",
    "    top2_acc = torch.sum(current_real==guesses[:,1])\n",
    "\n",
    "\n",
    "    # print(guesses[:100])\n",
    "    # print(current_real[:100])\n",
    "    # print(\"Guess: \", guesses, \"Label: \", current_real)\n",
    "\n",
    "    accuracy_1 = top1_acc / j\n",
    "    accuracy_2 = (top2_acc + top1_acc) / j\n",
    "    # print(running_acc)\n",
    "    # print(j)\n",
    "\n",
    "#     print('Accuracy for top 1: %d %%' % ((accuracy_1) * 100.0))\n",
    "#     print('Accuracy for top 2: %d %%' % ((accuracy_2) * 100.0))\n",
    "\n",
    "    return accuracy_1, accuracy_2\n",
    "\n",
    "    "
   ]
  },
  {
   "cell_type": "code",
   "execution_count": 2,
   "metadata": {
    "id": "XPZGj9r3Hxh9"
   },
   "outputs": [],
   "source": [
    "# !cd GitHub/EC523_Project/\n",
    "# !pip install transformers"
   ]
  },
  {
   "cell_type": "code",
   "execution_count": 3,
   "metadata": {},
   "outputs": [],
   "source": [
    "data = dp.unpickle_data(r\"data/BERT Encode/reviews_Electronics_5_7_encoded.pickle\")"
   ]
  },
  {
   "cell_type": "code",
   "execution_count": 4,
   "metadata": {},
   "outputs": [
    {
     "name": "stdout",
     "output_type": "stream",
     "text": [
      "torch.Size([1000000, 768])\n",
      "1000000\n"
     ]
    }
   ],
   "source": [
    "sentences = data['reviewText'][:num_training]\n",
    "labels = data['overall'][:num_training]\n",
    "print(sentences.shape)\n",
    "print(len(labels))"
   ]
  },
  {
   "cell_type": "code",
   "execution_count": 5,
   "metadata": {},
   "outputs": [
    {
     "name": "stderr",
     "output_type": "stream",
     "text": [
      "/tmp/ipykernel_2846/2229738559.py:4: UserWarning: To copy construct from a tensor, it is recommended to use sourceTensor.clone().detach() or sourceTensor.clone().detach().requires_grad_(True), rather than torch.tensor(sourceTensor).\n",
      "  X_test = torch.tensor(X_test).cuda()\n"
     ]
    },
    {
     "name": "stdout",
     "output_type": "stream",
     "text": [
      "tensor([4., 4., 4.,  ..., 4., 2., 4.], device='cuda:0')\n"
     ]
    }
   ],
   "source": [
    "X_train, X_test, y_train, y_test = train_test_split(sentences, labels, test_size=0.1, random_state=42, stratify=labels)\n",
    "X_test, X_val, y_test, y_val = train_test_split(X_test, y_test, test_size=0.5, random_state=42, stratify=y_test)\n",
    "\n",
    "X_test = torch.tensor(X_test).cuda()\n",
    "y_test = torch.tensor(y_test).cuda()\n",
    "\n",
    "for i in range(len(y_test)):\n",
    "    y_test[i] = y_test[i] - 1 \n",
    "\n",
    "print(y_test)\n",
    "\n",
    "# indecies = torch.permute(indecies)\n",
    "# X_train = X_train[indexes,:]\n",
    "\n",
    "X_train = X_train.clone().detach()\n",
    "y_train = torch.tensor(y_train)"
   ]
  },
  {
   "cell_type": "code",
   "execution_count": 6,
   "metadata": {},
   "outputs": [],
   "source": [
    "rev1 = X_train[y_train==1]\n",
    "rev2 = X_train[y_train==2]\n",
    "rev3 = X_train[y_train==3]\n",
    "rev4 = X_train[y_train==4]\n",
    "rev5 = X_train[y_train==5]\n",
    "\n",
    "training_points = min(len(rev1), len(rev2), len(rev3), len(rev4), len(rev5))\n",
    "\n",
    "rev1 = rev1 [:training_points]\n",
    "rev2 = rev2 [:training_points]\n",
    "rev3 = rev3 [:training_points]\n",
    "rev4 = rev4 [:training_points]\n",
    "rev5 = rev5 [:training_points]\n",
    "\n",
    "indicies = torch.randperm(training_points * 5)\n",
    "\n",
    "X_train = torch.cat((rev1, rev2, rev3, rev4, rev5), dim=0)[indicies, :]\n",
    "base = torch.zeros(training_points)\n",
    "y_train = torch.cat((base,base+1,base+2,base+3,base+4))[indicies]\n"
   ]
  },
  {
   "cell_type": "code",
   "execution_count": 7,
   "metadata": {},
   "outputs": [],
   "source": [
    "class Net(nn.Module):\n",
    "    def __init__(self, output_dim=5, dropout=0.5,activation=F.sigmoid):\n",
    "\n",
    "        # self.loss = torch.nn.MSELoss()\n",
    "        super(Net, self).__init__()\n",
    "        self.dropout = nn.Dropout(dropout)\n",
    "        self.activation = activation\n",
    "        self.fc1 = nn.Linear(768, 600)\n",
    "        self.fc2 = nn.Linear(600, 550)\n",
    "        self.fc3 = nn.Linear(550, 500)\n",
    "        self.fc4 = nn.Linear(500, 450)\n",
    "        self.fc5 = nn.Linear(450, 400)\n",
    "        self.fc6 = nn.Linear(400, 300)\n",
    "        self.fc7 = nn.Linear(300, 200)\n",
    "        self.fc8 = nn.Linear(200, 100)\n",
    "        self.fc9 = nn.Linear(100, 50)\n",
    "        self.fc10 = nn.Linear(50, output_dim)\n",
    "\n",
    "    #def forward(self, input_id, mask):\n",
    "    def forward(self, X_train):\n",
    "        activation = self.activation\n",
    "        x = self.dropout(X_train)\n",
    "        x = activation(self.fc1(x))\n",
    "        x = activation(self.fc2(x))\n",
    "        x = activation(self.fc3(x))\n",
    "        x = activation(self.fc4(x))\n",
    "        x = activation(self.fc5(x))\n",
    "        x = activation(self.fc6(x))\n",
    "        x = activation(self.fc7(x))\n",
    "        x = activation(self.fc8(x))\n",
    "        x = activation(self.fc9(x))\n",
    "        x = F.softmax(self.fc10(x), dim=1)\n",
    "        return x"
   ]
  },
  {
   "cell_type": "code",
   "execution_count": 36,
   "metadata": {},
   "outputs": [
    {
     "name": "stdout",
     "output_type": "stream",
     "text": [
      "tensor([[1.0000, 0.2000, 0.0000, 0.0000, 0.0000],\n",
      "        [0.2000, 1.0000, 0.2000, 0.0000, 0.0000],\n",
      "        [0.0000, 0.2000, 1.0000, 0.2000, 0.0000],\n",
      "        [0.0000, 0.0000, 0.2000, 1.0000, 0.2000],\n",
      "        [0.0000, 0.0000, 0.0000, 0.2000, 1.0000]], device='cuda:0')\n"
     ]
    }
   ],
   "source": [
    "from importlib import reload\n",
    "import modelhelper.MSE_Vec as test\n",
    "reload(modelhelper.MSE_Vec)\n",
    "\n",
    "# criterion = torch.nn.MSELoss().to(device)\n",
    "# optimizer = torch.optim.Adam(net.parameters(), lr=1e-2)\n",
    "NUM_EPOCH = 5000\n",
    "LR_START  = 1e-2\n",
    "LR_END    = 1e-2\n",
    "LR_GAMMA  = (LR_END/LR_START)**(1/NUM_EPOCH)\n",
    "\n",
    "net = Net(output_dim=5,dropout=0, activation=F.relu).to(device)\n",
    "\n",
    "optimizer = torch.optim.SGD(net.parameters(), lr=LR_START, momentum=0.9)\n",
    "# optimizer = torch.optim.SGD(net.parameters(), lr=LR_START, momentum=0.8)\n",
    "# criterion = torch.nn.CrossEntropyLoss().to(device)\n",
    "criterion = torch.nn.MSELoss().to(device)\n",
    "scheduler = ExponentialLR(optimizer, gamma=LR_GAMMA)\n",
    "MSE_vec   = test.MSE_Vec_matrix(edge=0.2)\n",
    "MSE_vec.to(device)\n",
    "print(MSE_vec)"
   ]
  },
  {
   "cell_type": "code",
   "execution_count": 37,
   "metadata": {},
   "outputs": [],
   "source": [
    "X_train = X_train.to(device)\n",
    "y_train = y_train.long().to(device)"
   ]
  },
  {
   "cell_type": "markdown",
   "metadata": {},
   "source": [
    "$$\n",
    "\\gamma = \\left( \\frac{\\alpha}{\\beta} \\right)^{\\frac{1}{e}}\n",
    "$$\n",
    "\n",
    "gamma is decay rate\n",
    "\n",
    "beta is start learning rate\n",
    "\n",
    "alpha is ending learning rate\n",
    "\n",
    "e is number of epochs"
   ]
  },
  {
   "cell_type": "code",
   "execution_count": null,
   "metadata": {
    "scrolled": true
   },
   "outputs": [
    {
     "name": "stdout",
     "output_type": "stream",
     "text": [
      "[1] loss: 3.525 \t test loss: 1.629 \t test_ac1: 0.08 \t test_ac2: 0.29\n",
      "[2] loss: 3.524 \t test loss: 1.628 \t test_ac1: 0.08 \t test_ac2: 0.29\n",
      "[3] loss: 3.524 \t test loss: 1.627 \t test_ac1: 0.08 \t test_ac2: 0.29\n",
      "[4] loss: 3.523 \t test loss: 1.625 \t test_ac1: 0.08 \t test_ac2: 0.29\n",
      "[5] loss: 3.523 \t test loss: 1.624 \t test_ac1: 0.08 \t test_ac2: 0.29\n",
      "[6] loss: 3.523 \t test loss: 1.623 \t test_ac1: 0.08 \t test_ac2: 0.29\n",
      "[7] loss: 3.522 \t test loss: 1.622 \t test_ac1: 0.08 \t test_ac2: 0.29\n",
      "[8] loss: 3.522 \t test loss: 1.620 \t test_ac1: 0.08 \t test_ac2: 0.29\n",
      "[9] loss: 3.522 \t test loss: 1.619 \t test_ac1: 0.08 \t test_ac2: 0.29\n",
      "[10] loss: 3.522 \t test loss: 1.618 \t test_ac1: 0.08 \t test_ac2: 0.29\n",
      "[11] loss: 3.522 \t test loss: 1.618 \t test_ac1: 0.08 \t test_ac2: 0.29\n",
      "[12] loss: 3.521 \t test loss: 1.617 \t test_ac1: 0.08 \t test_ac2: 0.29\n",
      "[13] loss: 3.521 \t test loss: 1.616 \t test_ac1: 0.08 \t test_ac2: 0.29\n",
      "[14] loss: 3.521 \t test loss: 1.615 \t test_ac1: 0.08 \t test_ac2: 0.29\n",
      "[15] loss: 3.521 \t test loss: 1.614 \t test_ac1: 0.08 \t test_ac2: 0.29\n",
      "[16] loss: 3.521 \t test loss: 1.614 \t test_ac1: 0.08 \t test_ac2: 0.29\n",
      "[17] loss: 3.521 \t test loss: 1.613 \t test_ac1: 0.08 \t test_ac2: 0.29\n",
      "[18] loss: 3.521 \t test loss: 1.612 \t test_ac1: 0.08 \t test_ac2: 0.29\n",
      "[19] loss: 3.521 \t test loss: 1.612 \t test_ac1: 0.08 \t test_ac2: 0.29\n",
      "[20] loss: 3.521 \t test loss: 1.611 \t test_ac1: 0.08 \t test_ac2: 0.29\n",
      "[21] loss: 3.521 \t test loss: 1.611 \t test_ac1: 0.08 \t test_ac2: 0.29\n",
      "[22] loss: 3.521 \t test loss: 1.610 \t test_ac1: 0.08 \t test_ac2: 0.29\n",
      "[23] loss: 3.520 \t test loss: 1.610 \t test_ac1: 0.08 \t test_ac2: 0.29\n",
      "[24] loss: 3.520 \t test loss: 1.609 \t test_ac1: 0.08 \t test_ac2: 0.29\n",
      "[25] loss: 3.520 \t test loss: 1.609 \t test_ac1: 0.08 \t test_ac2: 0.29\n",
      "[26] loss: 3.520 \t test loss: 1.609 \t test_ac1: 0.08 \t test_ac2: 0.29\n",
      "[27] loss: 3.520 \t test loss: 1.608 \t test_ac1: 0.08 \t test_ac2: 0.29\n",
      "[28] loss: 3.520 \t test loss: 1.608 \t test_ac1: 0.08 \t test_ac2: 0.29\n",
      "[29] loss: 3.520 \t test loss: 1.607 \t test_ac1: 0.08 \t test_ac2: 0.29\n",
      "[30] loss: 3.520 \t test loss: 1.607 \t test_ac1: 0.08 \t test_ac2: 0.29\n",
      "[31] loss: 3.520 \t test loss: 1.607 \t test_ac1: 0.08 \t test_ac2: 0.29\n",
      "[32] loss: 3.520 \t test loss: 1.607 \t test_ac1: 0.08 \t test_ac2: 0.29\n",
      "[33] loss: 3.520 \t test loss: 1.606 \t test_ac1: 0.08 \t test_ac2: 0.29\n",
      "[34] loss: 3.520 \t test loss: 1.606 \t test_ac1: 0.08 \t test_ac2: 0.29\n",
      "[35] loss: 3.520 \t test loss: 1.606 \t test_ac1: 0.08 \t test_ac2: 0.29\n",
      "[36] loss: 3.520 \t test loss: 1.605 \t test_ac1: 0.08 \t test_ac2: 0.29\n",
      "[37] loss: 3.520 \t test loss: 1.605 \t test_ac1: 0.08 \t test_ac2: 0.29\n",
      "[38] loss: 3.520 \t test loss: 1.605 \t test_ac1: 0.08 \t test_ac2: 0.29\n",
      "[39] loss: 3.520 \t test loss: 1.605 \t test_ac1: 0.08 \t test_ac2: 0.29\n",
      "[40] loss: 3.520 \t test loss: 1.605 \t test_ac1: 0.08 \t test_ac2: 0.29\n",
      "[41] loss: 3.520 \t test loss: 1.604 \t test_ac1: 0.08 \t test_ac2: 0.29\n",
      "[42] loss: 3.520 \t test loss: 1.604 \t test_ac1: 0.08 \t test_ac2: 0.29\n",
      "[43] loss: 3.520 \t test loss: 1.604 \t test_ac1: 0.08 \t test_ac2: 0.29\n",
      "[44] loss: 3.520 \t test loss: 1.604 \t test_ac1: 0.08 \t test_ac2: 0.29\n",
      "[45] loss: 3.520 \t test loss: 1.604 \t test_ac1: 0.08 \t test_ac2: 0.29\n",
      "[46] loss: 3.520 \t test loss: 1.604 \t test_ac1: 0.08 \t test_ac2: 0.29\n",
      "[47] loss: 3.520 \t test loss: 1.603 \t test_ac1: 0.08 \t test_ac2: 0.29\n",
      "[48] loss: 3.520 \t test loss: 1.603 \t test_ac1: 0.08 \t test_ac2: 0.29\n",
      "[49] loss: 3.520 \t test loss: 1.603 \t test_ac1: 0.08 \t test_ac2: 0.29\n",
      "[50] loss: 3.520 \t test loss: 1.603 \t test_ac1: 0.08 \t test_ac2: 0.29\n",
      "[51] loss: 3.520 \t test loss: 1.603 \t test_ac1: 0.08 \t test_ac2: 0.29\n",
      "[52] loss: 3.520 \t test loss: 1.603 \t test_ac1: 0.08 \t test_ac2: 0.29\n",
      "[53] loss: 3.520 \t test loss: 1.603 \t test_ac1: 0.08 \t test_ac2: 0.29\n",
      "[54] loss: 3.520 \t test loss: 1.603 \t test_ac1: 0.08 \t test_ac2: 0.29\n",
      "[55] loss: 3.520 \t test loss: 1.602 \t test_ac1: 0.08 \t test_ac2: 0.29\n",
      "[56] loss: 3.520 \t test loss: 1.602 \t test_ac1: 0.08 \t test_ac2: 0.29\n",
      "[57] loss: 3.520 \t test loss: 1.602 \t test_ac1: 0.08 \t test_ac2: 0.29\n",
      "[58] loss: 3.520 \t test loss: 1.602 \t test_ac1: 0.08 \t test_ac2: 0.29\n",
      "[59] loss: 3.520 \t test loss: 1.602 \t test_ac1: 0.08 \t test_ac2: 0.29\n",
      "[60] loss: 3.520 \t test loss: 1.602 \t test_ac1: 0.08 \t test_ac2: 0.29\n",
      "[61] loss: 3.520 \t test loss: 1.602 \t test_ac1: 0.08 \t test_ac2: 0.29\n",
      "[62] loss: 3.520 \t test loss: 1.602 \t test_ac1: 0.08 \t test_ac2: 0.29\n",
      "[63] loss: 3.520 \t test loss: 1.602 \t test_ac1: 0.08 \t test_ac2: 0.29\n",
      "[64] loss: 3.520 \t test loss: 1.602 \t test_ac1: 0.08 \t test_ac2: 0.29\n",
      "[65] loss: 3.520 \t test loss: 1.602 \t test_ac1: 0.08 \t test_ac2: 0.29\n",
      "[66] loss: 3.520 \t test loss: 1.602 \t test_ac1: 0.08 \t test_ac2: 0.29\n",
      "[67] loss: 3.520 \t test loss: 1.601 \t test_ac1: 0.08 \t test_ac2: 0.29\n",
      "[68] loss: 3.520 \t test loss: 1.601 \t test_ac1: 0.08 \t test_ac2: 0.29\n",
      "[69] loss: 3.520 \t test loss: 1.601 \t test_ac1: 0.08 \t test_ac2: 0.29\n",
      "[70] loss: 3.520 \t test loss: 1.601 \t test_ac1: 0.08 \t test_ac2: 0.29\n",
      "[71] loss: 3.520 \t test loss: 1.601 \t test_ac1: 0.08 \t test_ac2: 0.29\n",
      "[72] loss: 3.520 \t test loss: 1.601 \t test_ac1: 0.08 \t test_ac2: 0.29\n",
      "[73] loss: 3.520 \t test loss: 1.601 \t test_ac1: 0.08 \t test_ac2: 0.29\n",
      "[74] loss: 3.520 \t test loss: 1.601 \t test_ac1: 0.08 \t test_ac2: 0.29\n",
      "[75] loss: 3.520 \t test loss: 1.601 \t test_ac1: 0.08 \t test_ac2: 0.29\n",
      "[76] loss: 3.520 \t test loss: 1.601 \t test_ac1: 0.08 \t test_ac2: 0.29\n",
      "[77] loss: 3.520 \t test loss: 1.601 \t test_ac1: 0.08 \t test_ac2: 0.29\n",
      "[78] loss: 3.520 \t test loss: 1.601 \t test_ac1: 0.08 \t test_ac2: 0.29\n",
      "[79] loss: 3.520 \t test loss: 1.601 \t test_ac1: 0.08 \t test_ac2: 0.29\n",
      "[80] loss: 3.520 \t test loss: 1.601 \t test_ac1: 0.08 \t test_ac2: 0.29\n",
      "[81] loss: 3.520 \t test loss: 1.601 \t test_ac1: 0.08 \t test_ac2: 0.29\n",
      "[82] loss: 3.520 \t test loss: 1.601 \t test_ac1: 0.08 \t test_ac2: 0.29\n",
      "[83] loss: 3.520 \t test loss: 1.601 \t test_ac1: 0.08 \t test_ac2: 0.29\n",
      "[84] loss: 3.520 \t test loss: 1.601 \t test_ac1: 0.08 \t test_ac2: 0.29\n",
      "[85] loss: 3.520 \t test loss: 1.601 \t test_ac1: 0.08 \t test_ac2: 0.29\n",
      "[86] loss: 3.520 \t test loss: 1.601 \t test_ac1: 0.08 \t test_ac2: 0.29\n",
      "[87] loss: 3.520 \t test loss: 1.601 \t test_ac1: 0.08 \t test_ac2: 0.29\n",
      "[88] loss: 3.520 \t test loss: 1.601 \t test_ac1: 0.08 \t test_ac2: 0.29\n",
      "[89] loss: 3.520 \t test loss: 1.601 \t test_ac1: 0.08 \t test_ac2: 0.29\n",
      "[90] loss: 3.520 \t test loss: 1.601 \t test_ac1: 0.08 \t test_ac2: 0.29\n",
      "[91] loss: 3.520 \t test loss: 1.601 \t test_ac1: 0.08 \t test_ac2: 0.29\n",
      "[92] loss: 3.520 \t test loss: 1.601 \t test_ac1: 0.08 \t test_ac2: 0.29\n",
      "[93] loss: 3.520 \t test loss: 1.601 \t test_ac1: 0.08 \t test_ac2: 0.29\n",
      "[94] loss: 3.520 \t test loss: 1.601 \t test_ac1: 0.08 \t test_ac2: 0.29\n",
      "[95] loss: 3.520 \t test loss: 1.601 \t test_ac1: 0.08 \t test_ac2: 0.29\n",
      "[96] loss: 3.520 \t test loss: 1.601 \t test_ac1: 0.08 \t test_ac2: 0.29\n"
     ]
    }
   ],
   "source": [
    "batch_size = 10000\n",
    "indecies = torch.tensor(range(batch_size))\n",
    "\n",
    "train_losses = []\n",
    "test_losses = []\n",
    "accuracy1 = []\n",
    "accuracy2 = []\n",
    "for epoch in range(NUM_EPOCH):\n",
    "    running_loss = 0.0\n",
    "    for i in range(len(y_train)//batch_size):\n",
    "    #for i in range(1):\n",
    "        select = batch_size * i + indecies\n",
    "        optimizer.zero_grad()\n",
    "        outputs = net(X_train[select,:])\n",
    "\n",
    "        # MSE Loss\n",
    "#         loss = criterion(outputs, gen_MSE_Vec(y_train[select],scale=4))\n",
    "        loss = criterion(outputs, F.one_hot(y_train[select].long(),num_classes=5).float())\n",
    "\n",
    "        # Cross Entropy Loss\n",
    "#         loss = criterion(outputs, y_train[select])\n",
    "\n",
    "        loss.backward()\n",
    "        optimizer.step()\n",
    "        # print statistics\n",
    "        running_loss += loss.item()\n",
    "    with torch.no_grad():\n",
    "        training_loss = criterion(net(X_test),F.one_hot(y_test.long(),num_classes=5).float()).item()\n",
    "        ac1,ac2 = accuracy(net, X_test, y_test)\n",
    "        accuracy1.append(ac1.item())\n",
    "        accuracy2.append(ac2.item())\n",
    "    print('[%d] loss: %.3f \\t test loss: %.3f \\t test_ac1: %.2f \\t test_ac2: %.2f' %\n",
    "        (epoch + 1, running_loss, training_loss*10,ac1,ac2))\n",
    "        \n",
    "    train_losses.append(running_loss)\n",
    "    test_losses.append(training_loss)\n",
    "    running_loss = 0.0\n",
    "\n",
    "    scheduler.step()\n",
    "  \n",
    "\n",
    "print('Finished Training')\n",
    "plt.plot(train_losses)\n",
    "plt.figure()\n",
    "plt.plot(test_losses)\n",
    "plt.figure()\n",
    "plt.plot(accuracy1)\n",
    "plt.figure()\n",
    "plt.plot(accuracy2)\n"
   ]
  },
  {
   "cell_type": "code",
   "execution_count": null,
   "metadata": {},
   "outputs": [],
   "source": [
    "# net = net.eval()\n",
    "\n",
    "# train_acc = accuracy(net, X_train.cuda(), y_train.cuda())\n",
    "# test_acc = accuracy(net, X_test, y_test)"
   ]
  },
  {
   "cell_type": "code",
   "execution_count": null,
   "metadata": {},
   "outputs": [],
   "source": [
    "max(accuracy1)"
   ]
  },
  {
   "cell_type": "code",
   "execution_count": null,
   "metadata": {},
   "outputs": [],
   "source": []
  }
 ],
 "metadata": {
  "colab": {
   "collapsed_sections": [],
   "name": "Encoding_Scratchbook.ipynb",
   "provenance": []
  },
  "kernelspec": {
   "display_name": "Python 3 (ipykernel)",
   "language": "python",
   "name": "python3"
  },
  "language_info": {
   "codemirror_mode": {
    "name": "ipython",
    "version": 3
   },
   "file_extension": ".py",
   "mimetype": "text/x-python",
   "name": "python",
   "nbconvert_exporter": "python",
   "pygments_lexer": "ipython3",
   "version": "3.10.4"
  }
 },
 "nbformat": 4,
 "nbformat_minor": 1
}
