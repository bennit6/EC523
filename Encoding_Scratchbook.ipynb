{
 "cells": [
  {
   "cell_type": "code",
   "execution_count": 109,
   "metadata": {},
   "outputs": [],
   "source": [
    "import dataprocess as dp\n",
    "import transformers\n",
    "from sklearn.model_selection import train_test_split\n",
    "import torch\n",
    "import numpy as np\n",
    "import torch\n",
    "import torch.nn as nn\n",
    "import torch.nn.functional as F\n",
    "import matplotlib.pyplot as plt\n",
    "from torch.optim.lr_scheduler import ExponentialLR\n",
    "from modelhelper import MSE_Vec_matrix,gen_MSE_Vec\n",
    "import modelhelper\n",
    "\n",
    "#TODO Normalize Xtest\n",
    "#Make our own loss function\n",
    "\n",
    "# Hyperparameters\n",
    "# Batch Size, Num Epochs, Learning Rate, Momentum, FC Layer, Activation Function\n",
    "\n",
    "\n",
    "# 0 Lowercase & N2W\n",
    "# 1 Contractions\n",
    "# 2 Remove Punctutations\n",
    "# 3 Strop Words\n",
    "\n",
    "num_training = 1000000\n",
    "\n",
    "device = torch.device(\"cuda\" if torch.cuda.is_available() else \"cpu\")\n",
    "\n",
    "def accuracy(net, input_id, labels):\n",
    "    j = len(labels)\n",
    "\n",
    "    guesses = torch.argsort(net(input_id), dim=1, descending=True)\n",
    "#     print(\"GUESS: \", guesses[:,0])\n",
    "\n",
    "    # guess1 = torch.argmax(guesses, dim=1)\n",
    "    # guess2 = torch.argsort(guesses, dim=1)[-2]\n",
    "\n",
    "\n",
    "    # current_real = torch.tensor(labels)\n",
    "    current_real = labels.clone().detach()\n",
    "#     print(\"LABEL: \", current_real)\n",
    "\n",
    "    top1_acc = torch.sum(current_real==guesses[:,0])\n",
    "    top2_acc = torch.sum(current_real==guesses[:,1])\n",
    "\n",
    "\n",
    "    # print(guesses[:100])\n",
    "    # print(current_real[:100])\n",
    "    # print(\"Guess: \", guesses, \"Label: \", current_real)\n",
    "\n",
    "    accuracy_1 = top1_acc / j\n",
    "    accuracy_2 = (top2_acc + top1_acc) / j\n",
    "    # print(running_acc)\n",
    "    # print(j)\n",
    "\n",
    "#     print('Accuracy for top 1: %d %%' % ((accuracy_1) * 100.0))\n",
    "#     print('Accuracy for top 2: %d %%' % ((accuracy_2) * 100.0))\n",
    "\n",
    "    return accuracy_1, accuracy_2\n",
    "\n",
    "    "
   ]
  },
  {
   "cell_type": "code",
   "execution_count": 110,
   "metadata": {
    "id": "XPZGj9r3Hxh9"
   },
   "outputs": [
    {
     "name": "stdout",
     "output_type": "stream",
     "text": [
      "WARNING: pip is being invoked by an old script wrapper. This will fail in a future version of pip.\n",
      "Please see https://github.com/pypa/pip/issues/5599 for advice on fixing the underlying issue.\n",
      "To avoid this problem you can invoke Python with '-m pip' instead of running pip directly.\n",
      "Defaulting to user installation because normal site-packages is not writeable\n",
      "Requirement already satisfied: pylzma in /usr4/ugrad/jshteren/.local/lib/python3.6/site-packages (0.5.0)\n",
      "\u001b[33mWARNING: You are using pip version 21.0.1; however, version 21.3.1 is available.\n",
      "You should consider upgrading via the '/share/pkg.7/python3/3.6.9/install/bin/python3.6 -m pip install --upgrade pip' command.\u001b[0m\n"
     ]
    }
   ],
   "source": [
    "# !cd GitHub/EC523_Project/\n",
    "# !pip install transformers\n",
    "!pip install --upgrade pylzma"
   ]
  },
  {
   "cell_type": "code",
   "execution_count": 4,
   "metadata": {},
   "outputs": [],
   "source": [
    "data = dp.unpickle_data(r\"reviews_Electronics_5_7_encoded.pickle\")"
   ]
  },
  {
   "cell_type": "code",
   "execution_count": 111,
   "metadata": {},
   "outputs": [
    {
     "name": "stdout",
     "output_type": "stream",
     "text": [
      "torch.Size([1000000, 768])\n",
      "1000000\n"
     ]
    }
   ],
   "source": [
    "sentences = data['reviewText'][:num_training]\n",
    "labels = data['overall'][:num_training]\n",
    "print(sentences.shape)\n",
    "print(len(labels))"
   ]
  },
  {
   "cell_type": "code",
   "execution_count": 112,
   "metadata": {},
   "outputs": [
    {
     "name": "stdout",
     "output_type": "stream",
     "text": [
      "cuda\n"
     ]
    },
    {
     "name": "stderr",
     "output_type": "stream",
     "text": [
      "/share/pkg.7/python3/3.6.9/install/lib/python3.6/site-packages/ipykernel_launcher.py:6: UserWarning: To copy construct from a tensor, it is recommended to use sourceTensor.clone().detach() or sourceTensor.clone().detach().requires_grad_(True), rather than torch.tensor(sourceTensor).\n",
      "  \n"
     ]
    },
    {
     "ename": "RuntimeError",
     "evalue": "CUDA error: device-side assert triggered",
     "output_type": "error",
     "traceback": [
      "\u001b[0;31m---------------------------------------------------------------------------\u001b[0m",
      "\u001b[0;31mRuntimeError\u001b[0m                              Traceback (most recent call last)",
      "\u001b[0;32m<ipython-input-112-0c3c0f3e959e>\u001b[0m in \u001b[0;36m<module>\u001b[0;34m\u001b[0m\n\u001b[1;32m      4\u001b[0m \u001b[0mprint\u001b[0m\u001b[0;34m(\u001b[0m\u001b[0mdevice\u001b[0m\u001b[0;34m)\u001b[0m\u001b[0;34m\u001b[0m\u001b[0;34m\u001b[0m\u001b[0m\n\u001b[1;32m      5\u001b[0m \u001b[0;34m\u001b[0m\u001b[0m\n\u001b[0;32m----> 6\u001b[0;31m \u001b[0mX_test\u001b[0m \u001b[0;34m=\u001b[0m \u001b[0mtorch\u001b[0m\u001b[0;34m.\u001b[0m\u001b[0mtensor\u001b[0m\u001b[0;34m(\u001b[0m\u001b[0mX_test\u001b[0m\u001b[0;34m)\u001b[0m\u001b[0;34m.\u001b[0m\u001b[0mto\u001b[0m\u001b[0;34m(\u001b[0m\u001b[0mdevice\u001b[0m\u001b[0;34m)\u001b[0m\u001b[0;34m\u001b[0m\u001b[0;34m\u001b[0m\u001b[0m\n\u001b[0m\u001b[1;32m      7\u001b[0m \u001b[0my_test\u001b[0m \u001b[0;34m=\u001b[0m \u001b[0mtorch\u001b[0m\u001b[0;34m.\u001b[0m\u001b[0mtensor\u001b[0m\u001b[0;34m(\u001b[0m\u001b[0my_test\u001b[0m\u001b[0;34m)\u001b[0m\u001b[0;34m.\u001b[0m\u001b[0mto\u001b[0m\u001b[0;34m(\u001b[0m\u001b[0mdevice\u001b[0m\u001b[0;34m)\u001b[0m\u001b[0;34m\u001b[0m\u001b[0;34m\u001b[0m\u001b[0m\n\u001b[1;32m      8\u001b[0m \u001b[0;34m\u001b[0m\u001b[0m\n",
      "\u001b[0;31mRuntimeError\u001b[0m: CUDA error: device-side assert triggered"
     ]
    }
   ],
   "source": [
    "X_train, X_test, y_train, y_test = train_test_split(sentences, labels, test_size=0.1, random_state=42, stratify=labels)\n",
    "X_test, X_val, y_test, y_val = train_test_split(X_test, y_test, test_size=0.5, random_state=42, stratify=y_test)\n",
    "\n",
    "print(device)\n",
    "\n",
    "X_test = torch.tensor(X_test).to(device)\n",
    "y_test = torch.tensor(y_test).to(device)\n",
    "\n",
    "for i in range(len(y_test)):\n",
    "    y_test[i] = y_test[i] - 1 \n",
    "\n",
    "print(y_test)\n",
    "\n",
    "# indecies = torch.permute(indecies)\n",
    "# X_train = X_train[indexes,:]\n",
    "\n",
    "X_train = X_train.clone().detach()\n",
    "y_train = torch.tensor(y_train)"
   ]
  },
  {
   "cell_type": "code",
   "execution_count": 77,
   "metadata": {},
   "outputs": [],
   "source": [
    "rev1 = X_train[y_train==1]\n",
    "rev2 = X_train[y_train==2]\n",
    "rev3 = X_train[y_train==3]\n",
    "rev4 = X_train[y_train==4]\n",
    "rev5 = X_train[y_train==5]\n",
    "\n",
    "training_points = min(len(rev1), len(rev2), len(rev3), len(rev4), len(rev5))\n",
    "\n",
    "rev1 = rev1 [:training_points]\n",
    "rev2 = rev2 [:training_points]\n",
    "rev3 = rev3 [:training_points]\n",
    "rev4 = rev4 [:training_points]\n",
    "rev5 = rev5 [:training_points]\n",
    "\n",
    "indicies = torch.randperm(training_points * 5)\n",
    "\n",
    "X_train = torch.cat((rev1, rev2, rev3, rev4, rev5), dim=0)[indicies, :]\n",
    "base = torch.zeros(training_points)\n",
    "y_train = torch.cat((base,base+1,base+2,base+3,base+4))[indicies]\n"
   ]
  },
  {
   "cell_type": "code",
   "execution_count": 79,
   "metadata": {},
   "outputs": [],
   "source": [
    "class Net(nn.Module):\n",
    "    def __init__(self, output_dim=5, dropout=0.5,activation=F.sigmoid):\n",
    "\n",
    "        # self.loss = torch.nn.MSELoss()\n",
    "        super(Net, self).__init__()\n",
    "        self.dropout = nn.Dropout(dropout)\n",
    "        self.activation = activation\n",
    "        self.fc1 = nn.Linear(768, 600)\n",
    "        self.fc2 = nn.Linear(600, 550)\n",
    "        self.fc3 = nn.Linear(550, 500)\n",
    "        self.fc4 = nn.Linear(500, 450)\n",
    "        self.fc5 = nn.Linear(450, 400)\n",
    "        self.fc6 = nn.Linear(400, 300)\n",
    "        self.fc7 = nn.Linear(300, 200)\n",
    "        self.fc8 = nn.Linear(200, 100)\n",
    "        self.fc9 = nn.Linear(100, 50)\n",
    "        self.fc10 = nn.Linear(50, output_dim)\n",
    "\n",
    "    #def forward(self, input_id, mask):\n",
    "    def forward(self, X_train):\n",
    "        activation = self.activation\n",
    "        x = self.dropout(X_train)\n",
    "        x = activation(self.fc1(x))\n",
    "        x = activation(self.fc2(x))\n",
    "        x = activation(self.fc3(x))\n",
    "        x = activation(self.fc4(x))\n",
    "        x = activation(self.fc5(x))\n",
    "        x = activation(self.fc6(x))\n",
    "        x = activation(self.fc7(x))\n",
    "        x = activation(self.fc8(x))\n",
    "        x = activation(self.fc9(x))\n",
    "        x = F.softmax(self.fc10(x), dim=1)\n",
    "        return x"
   ]
  },
  {
   "cell_type": "code",
   "execution_count": 98,
   "metadata": {},
   "outputs": [
    {
     "name": "stdout",
     "output_type": "stream",
     "text": [
      "tensor([[1.0000, 0.2000, 0.0000, 0.0000, 0.0000],\n",
      "        [0.2000, 1.0000, 0.2000, 0.0000, 0.0000],\n",
      "        [0.0000, 0.2000, 1.0000, 0.2000, 0.0000],\n",
      "        [0.0000, 0.0000, 0.2000, 1.0000, 0.2000],\n",
      "        [0.0000, 0.0000, 0.0000, 0.2000, 1.0000]], device='cuda:0')\n"
     ]
    }
   ],
   "source": [
    "from importlib import reload\n",
    "import modelhelper.MSE_Vec as test\n",
    "reload(modelhelper.MSE_Vec)\n",
    "\n",
    "# criterion = torch.nn.MSELoss().to(device)\n",
    "# optimizer = torch.optim.Adam(net.parameters(), lr=1e-2)\n",
    "NUM_EPOCH = 200\n",
    "LR_START  = 1e-3\n",
    "LR_END    = 1e-3\n",
    "LR_GAMMA  = (LR_END/LR_START)**(1/NUM_EPOCH)\n",
    "\n",
    "net = Net(output_dim=5,dropout=0, activation=F.relu).to(device)\n",
    "\n",
    "optimizer = torch.optim.SGD(net.parameters(), lr=LR_START, momentum=0.9)\n",
    "# optimizer = torch.optim.SGD(net.parameters(), lr=LR_START, momentum=0.8)\n",
    "# criterion = torch.nn.CrossEntropyLoss().to(device)\n",
    "criterion = torch.nn.MSELoss().to(device)\n",
    "scheduler = ExponentialLR(optimizer, gamma=LR_GAMMA)\n",
    "MSE_vec   = test.MSE_Vec_matrix(edge=0.2)\n",
    "MSE_vec.to(device)\n",
    "print(MSE_vec)"
   ]
  },
  {
   "cell_type": "code",
   "execution_count": 102,
   "metadata": {},
   "outputs": [],
   "source": [
    "X_train = X_train.to(device)\n",
    "y_train = y_train.long().to(device)\n",
    "X_test = X_test.to(device)\n",
    "y_test = y_test.to(device)"
   ]
  },
  {
   "cell_type": "markdown",
   "metadata": {},
   "source": [
    "$$\n",
    "\\gamma = \\left( \\frac{\\alpha}{\\beta} \\right)^{\\frac{1}{e}}\n",
    "$$\n",
    "\n",
    "gamma is decay rate\n",
    "\n",
    "beta is start learning rate\n",
    "\n",
    "alpha is ending learning rate\n",
    "\n",
    "e is number of epochs"
   ]
  },
  {
   "cell_type": "code",
   "execution_count": 101,
   "metadata": {
    "scrolled": true
   },
   "outputs": [
    {
     "ename": "RuntimeError",
     "evalue": "cuda runtime error (710) : device-side assert triggered at /pytorch/aten/src/THC/generic/THCTensorMath.cu:26",
     "output_type": "error",
     "traceback": [
      "\u001b[0;31m---------------------------------------------------------------------------\u001b[0m",
      "\u001b[0;31mRuntimeError\u001b[0m                              Traceback (most recent call last)",
      "\u001b[0;32m<ipython-input-101-6f4254e3bb0e>\u001b[0m in \u001b[0;36m<module>\u001b[0;34m\u001b[0m\n\u001b[1;32m     11\u001b[0m     \u001b[0;31m#for i in range(1):\u001b[0m\u001b[0;34m\u001b[0m\u001b[0;34m\u001b[0m\u001b[0;34m\u001b[0m\u001b[0m\n\u001b[1;32m     12\u001b[0m         \u001b[0mselect\u001b[0m \u001b[0;34m=\u001b[0m \u001b[0mbatch_size\u001b[0m \u001b[0;34m*\u001b[0m \u001b[0mi\u001b[0m \u001b[0;34m+\u001b[0m \u001b[0mindecies\u001b[0m\u001b[0;34m\u001b[0m\u001b[0;34m\u001b[0m\u001b[0m\n\u001b[0;32m---> 13\u001b[0;31m         \u001b[0moptimizer\u001b[0m\u001b[0;34m.\u001b[0m\u001b[0mzero_grad\u001b[0m\u001b[0;34m(\u001b[0m\u001b[0;34m)\u001b[0m\u001b[0;34m\u001b[0m\u001b[0;34m\u001b[0m\u001b[0m\n\u001b[0m\u001b[1;32m     14\u001b[0m         \u001b[0moutputs\u001b[0m \u001b[0;34m=\u001b[0m \u001b[0mnet\u001b[0m\u001b[0;34m(\u001b[0m\u001b[0mX_train\u001b[0m\u001b[0;34m[\u001b[0m\u001b[0mselect\u001b[0m\u001b[0;34m,\u001b[0m\u001b[0;34m:\u001b[0m\u001b[0;34m]\u001b[0m\u001b[0;34m)\u001b[0m\u001b[0;34m\u001b[0m\u001b[0;34m\u001b[0m\u001b[0m\n\u001b[1;32m     15\u001b[0m \u001b[0;34m\u001b[0m\u001b[0m\n",
      "\u001b[0;32m/share/pkg.7/pytorch/1.3/install/3.6/lib/python3.6/site-packages/torch/optim/optimizer.py\u001b[0m in \u001b[0;36mzero_grad\u001b[0;34m(self)\u001b[0m\n\u001b[1;32m    163\u001b[0m                 \u001b[0;32mif\u001b[0m \u001b[0mp\u001b[0m\u001b[0;34m.\u001b[0m\u001b[0mgrad\u001b[0m \u001b[0;32mis\u001b[0m \u001b[0;32mnot\u001b[0m \u001b[0;32mNone\u001b[0m\u001b[0;34m:\u001b[0m\u001b[0;34m\u001b[0m\u001b[0;34m\u001b[0m\u001b[0m\n\u001b[1;32m    164\u001b[0m                     \u001b[0mp\u001b[0m\u001b[0;34m.\u001b[0m\u001b[0mgrad\u001b[0m\u001b[0;34m.\u001b[0m\u001b[0mdetach_\u001b[0m\u001b[0;34m(\u001b[0m\u001b[0;34m)\u001b[0m\u001b[0;34m\u001b[0m\u001b[0;34m\u001b[0m\u001b[0m\n\u001b[0;32m--> 165\u001b[0;31m                     \u001b[0mp\u001b[0m\u001b[0;34m.\u001b[0m\u001b[0mgrad\u001b[0m\u001b[0;34m.\u001b[0m\u001b[0mzero_\u001b[0m\u001b[0;34m(\u001b[0m\u001b[0;34m)\u001b[0m\u001b[0;34m\u001b[0m\u001b[0;34m\u001b[0m\u001b[0m\n\u001b[0m\u001b[1;32m    166\u001b[0m \u001b[0;34m\u001b[0m\u001b[0m\n\u001b[1;32m    167\u001b[0m     \u001b[0;32mdef\u001b[0m \u001b[0mstep\u001b[0m\u001b[0;34m(\u001b[0m\u001b[0mself\u001b[0m\u001b[0;34m,\u001b[0m \u001b[0mclosure\u001b[0m\u001b[0;34m)\u001b[0m\u001b[0;34m:\u001b[0m\u001b[0;34m\u001b[0m\u001b[0;34m\u001b[0m\u001b[0m\n",
      "\u001b[0;31mRuntimeError\u001b[0m: cuda runtime error (710) : device-side assert triggered at /pytorch/aten/src/THC/generic/THCTensorMath.cu:26"
     ]
    }
   ],
   "source": [
    "batch_size = 10000\n",
    "indecies = torch.tensor(range(batch_size))\n",
    "\n",
    "train_losses = []\n",
    "test_losses = []\n",
    "accuracy1 = []\n",
    "accuracy2 = []\n",
    "for epoch in range(NUM_EPOCH):\n",
    "    running_loss = 0.0\n",
    "    for i in range(len(y_train)//batch_size):\n",
    "    #for i in range(1):\n",
    "        select = batch_size * i + indecies\n",
    "        optimizer.zero_grad()\n",
    "        outputs = net(X_train[select,:])\n",
    "\n",
    "        # MSE Loss\n",
    "#         loss = criterion(outputs, gen_MSE_Vec(y_train[select],scale=4))\n",
    "#         loss = criterion(outputs, F.one_hot(y_train[select].long(),num_classes=5).float())\n",
    "\n",
    "        # Cross Entropy Loss\n",
    "        loss = criterion(outputs, y_train[select])\n",
    "\n",
    "        loss.backward()\n",
    "        optimizer.step()\n",
    "        # print statistics\n",
    "        running_loss += loss.item()\n",
    "    with torch.no_grad():\n",
    "#         training_loss = criterion(net(X_test),F.one_hot(y_test.long(),num_classes=5).float()).item()\n",
    "        loss = criterion(outputs, y_test[select].long()).item()\n",
    "        ac1,ac2 = accuracy(net, X_test, y_test)\n",
    "        accuracy1.append(ac1.item())\n",
    "        accuracy2.append(ac2.item())\n",
    "    print('[%d] loss: %.3f \\t test loss: %.3f \\t test_ac1: %.2f \\t test_ac2: %.2f' %\n",
    "        (epoch + 1, running_loss, training_loss*10,ac1,ac2))\n",
    "        \n",
    "    train_losses.append(running_loss)\n",
    "    test_losses.append(training_loss)\n",
    "    running_loss = 0.0\n",
    "\n",
    "    scheduler.step()\n",
    "  \n",
    "\n",
    "print('Finished Training')\n",
    "plt.plot(train_losses)\n",
    "plt.figure()\n",
    "plt.plot(test_losses)\n",
    "plt.figure()\n",
    "plt.plot(accuracy1)\n",
    "plt.figure()\n",
    "plt.plot(accuracy2)\n"
   ]
  },
  {
   "cell_type": "code",
   "execution_count": 85,
   "metadata": {},
   "outputs": [
    {
     "data": {
      "text/plain": [
       "0"
      ]
     },
     "execution_count": 85,
     "metadata": {},
     "output_type": "execute_result"
    }
   ],
   "source": [
    "max(accuracy1)"
   ]
  },
  {
   "cell_type": "code",
   "execution_count": 95,
   "metadata": {},
   "outputs": [],
   "source": [
    "from sklearn.metrics import confusion_matrix\n",
    "import seaborn as sn\n",
    "import pandas as pd\n",
    "import torch\n",
    "\n",
    "def F_score(net, inputs, labels):\n",
    "    y_pred = []\n",
    "    y_true = []\n",
    "\n",
    "    output = net(inputs)\n",
    "    output = torch.argmax(output, dim=1).cpu().numpy()\n",
    "    y_pred.extend(output)\n",
    "    \n",
    "    y_true.extend(labels.cpu().numpy())\n",
    "    \n",
    "    classes = ('1 Star', '2 Stars', '3 Stars', '4 Stars', '5 Stars')\n",
    "    cf_matrix = confusion_matrix(y_true, y_pred)\n",
    "    #print(cf_matrix)\n",
    "    df_cm = pd.DataFrame(cf_matrix/np.sum(cf_matrix)*10, index=[i for i in classes], columns = [i for i in classes])\n",
    "    plt.figure(figsize = (12,7))\n",
    "    plt.xlabel(\"Predicted Label\")\n",
    "    plt.ylabel(\"True Label\")\n",
    "    sn.heatmap(df_cm, annot=True)\n",
    "    plt.savefig('output.png')\n",
    "    \n"
   ]
  },
  {
   "cell_type": "code",
   "execution_count": 96,
   "metadata": {},
   "outputs": [
    {
     "name": "stdout",
     "output_type": "stream",
     "text": [
      "[[    0     0     0     0  3444]\n",
      " [    0     0     0     0  2490]\n",
      " [    0     0     0     0  4162]\n",
      " [    0     0     0     0 10167]\n",
      " [    0     0     0     0 29737]]\n"
     ]
    },
    {
     "data": {
      "image/png": "[encoded data removed]",
      "text/plain": [
       "<Figure size 864x504 with 2 Axes>"
      ]
     },
     "metadata": {
      "needs_background": "light"
     },
     "output_type": "display_data"
    }
   ],
   "source": [
    "F_score(net, X_test, y_test)"
   ]
  },
  {
   "cell_type": "code",
   "execution_count": null,
   "metadata": {},
   "outputs": [],
   "source": []
  },
  {
   "cell_type": "code",
   "execution_count": null,
   "metadata": {},
   "outputs": [],
   "source": []
  },
  {
   "cell_type": "code",
   "execution_count": null,
   "metadata": {},
   "outputs": [],
   "source": []
  },
  {
   "cell_type": "code",
   "execution_count": null,
   "metadata": {},
   "outputs": [],
   "source": []
  },
  {
   "cell_type": "code",
   "execution_count": null,
   "metadata": {},
   "outputs": [],
   "source": []
  }
 ],
 "metadata": {
  "colab": {
   "collapsed_sections": [],
   "name": "Encoding_Scratchbook.ipynb",
   "provenance": []
  },
  "kernelspec": {
   "display_name": "Python 3",
   "language": "python",
   "name": "python3"
  },
  "language_info": {
   "codemirror_mode": {
    "name": "ipython",
    "version": 3
   },
   "file_extension": ".py",
   "mimetype": "text/x-python",
   "name": "python",
   "nbconvert_exporter": "python",
   "pygments_lexer": "ipython3",
   "version": "3.6.9"
  }
 },
 "nbformat": 4,
 "nbformat_minor": 4
}
