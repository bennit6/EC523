{
 "cells": [
  {
   "cell_type": "code",
   "execution_count": 74,
   "metadata": {},
   "outputs": [],
   "source": [
    "import dataprocess as dp\n",
    "import transformers\n",
    "from sklearn.model_selection import train_test_split\n",
    "import torch\n",
    "import numpy as np\n",
    "import torch\n",
    "import torch.nn as nn\n",
    "import torch.nn.functional as F\n",
    "import matplotlib.pyplot as plt\n",
    "from torch.optim.lr_scheduler import ExponentialLR\n",
    "from modelhelper import MSE_Vec_matrix\n",
    "import torch\n",
    "from torchvision import models\n",
    "\n",
    "#TODO Normalize Xtest\n",
    "#Make our own loss function\n",
    "\n",
    "# Hyperparameters\n",
    "# Batch Size, Num Epochs, Learning Rate, Momentum, FC Layer, Activation Function\n",
    "\n",
    "\n",
    "# 0 Lowercase & N2W\n",
    "# 1 Contractions\n",
    "# 2 Remove Punctutations\n",
    "# 3 Strop Words\n",
    "\n",
    "device = torch.device(\"cuda\" if torch.cuda.is_available() else \"cpu\")\n",
    "\n",
    "def accuracy(net, input_id, labels):\n",
    "    j = len(labels)\n",
    "\n",
    "    guesses = torch.argsort(net(input_id), dim=1, descending=True)\n",
    "#     print(\"GUESS: \", guesses[:,0])\n",
    "\n",
    "    # guess1 = torch.argmax(guesses, dim=1)\n",
    "    # guess2 = torch.argsort(guesses, dim=1)[-2]\n",
    "\n",
    "\n",
    "    # current_real = torch.tensor(labels)\n",
    "    current_real = labels.clone().detach()\n",
    "#     print(\"LABEL: \", current_real)\n",
    "\n",
    "    top1_acc = torch.sum(current_real==guesses[:,0])\n",
    "    top2_acc = torch.sum(current_real==guesses[:,1])\n",
    "\n",
    "\n",
    "    # print(guesses[:100])\n",
    "    # print(current_real[:100])\n",
    "    # print(\"Guess: \", guesses, \"Label: \", current_real)\n",
    "\n",
    "    accuracy_1 = top1_acc / j\n",
    "    accuracy_2 = (top2_acc + top1_acc) / j\n",
    "    # print(running_acc)\n",
    "    # print(j)\n",
    "\n",
    "    # print('Accuracy for top 1: %d %%' % ((accuracy_1) * 100.0))\n",
    "    # print('Accuracy for top 2: %d %%' % ((accuracy_2) * 100.0))\n",
    "\n",
    "    return accuracy_1.item(), accuracy_2.item()\n",
    "\n",
    "    "
   ]
  },
  {
   "cell_type": "code",
   "execution_count": 2,
   "metadata": {
    "id": "XPZGj9r3Hxh9"
   },
   "outputs": [],
   "source": [
    "# !cd GitHub/EC523_Project/\n",
    "# !pip install transformers"
   ]
  },
  {
   "cell_type": "code",
   "execution_count": 2,
   "metadata": {},
   "outputs": [],
   "source": [
    "data = dp.unpickle_data(\"reviews_Electronics_5_7_encoded.pickle\")"
   ]
  },
  {
   "cell_type": "code",
   "execution_count": 23,
   "metadata": {},
   "outputs": [
    {
     "name": "stdout",
     "output_type": "stream",
     "text": [
      "torch.Size([1689188, 768])\n",
      "1689188\n"
     ]
    }
   ],
   "source": [
    "sentences = data['reviewText']\n",
    "labels = data['overall']\n",
    "print(sentences.shape)\n",
    "print(len(labels))"
   ]
  },
  {
   "cell_type": "code",
   "execution_count": 24,
   "metadata": {},
   "outputs": [],
   "source": [
    "X_train, X_test, y_train, y_test = train_test_split(sentences, labels, test_size=0.1, random_state=42, stratify=labels)\n",
    "X_test, X_val, y_test, y_val = train_test_split(X_test, y_test, test_size=0.5, random_state=42, stratify=y_test)\n",
    "\n",
    "X_test = X_test.clone().detach()\n",
    "y_test = torch.tensor(y_test).cuda()\n",
    "\n",
    "for i in range(len(y_test)):\n",
    "    y_test[i] = y_test[i] - 1 \n",
    "\n",
    "\n",
    "# indecies = torch.permute(indecies)\n",
    "# X_train = X_train[indexes,:]\n",
    "\n",
    "X_train = X_train.clone().detach()\n",
    "y_train = torch.tensor(y_train)"
   ]
  },
  {
   "cell_type": "code",
   "execution_count": 25,
   "metadata": {},
   "outputs": [],
   "source": [
    "rev1 = X_train[y_train==1]\n",
    "rev2 = X_train[y_train==2]\n",
    "rev3 = X_train[y_train==3]\n",
    "rev4 = X_train[y_train==4]\n",
    "rev5 = X_train[y_train==5]\n",
    "\n",
    "training_points = min(len(rev1), len(rev2), len(rev3), len(rev4), len(rev5))\n",
    "\n",
    "rev1 = rev1 [:training_points]\n",
    "rev2 = rev2 [:training_points]\n",
    "rev3 = rev3 [:training_points]\n",
    "rev4 = rev4 [:training_points]\n",
    "rev5 = rev5 [:training_points]\n",
    "\n",
    "indicies = torch.randperm(training_points * 5)\n",
    "\n",
    "X_train = torch.cat((rev1, rev2, rev3, rev4, rev5), dim=0)[indicies, :]\n",
    "base = torch.zeros(training_points)\n",
    "y_train = torch.cat((base,base+1,base+2,base+3,base+4))[indicies]\n"
   ]
  },
  {
   "cell_type": "code",
   "execution_count": 36,
   "metadata": {},
   "outputs": [],
   "source": [
    "class Net(nn.Module):\n",
    "    def __init__(self, h_sizes, dropout=0.5, activation=F.sigmoid):\n",
    "\n",
    "        # self.loss = torch.nn.MSELoss()\n",
    "        super(Net, self).__init__()\n",
    "        self.activation = activation\n",
    "        self.h_sizes = h_sizes\n",
    "        self.num_layers = len(self.h_sizes)\n",
    "        self.fc = nn.ModuleList()\n",
    "        self.dropout = nn.Dropout(dropout)\n",
    "\n",
    "        for i in range(self.num_layers):\n",
    "            self.fc.append(nn.Linear(self.h_sizes[i][0], self.h_sizes[i][1]))\n",
    "\n",
    "\n",
    "    def forward(self, x):\n",
    "        activation = self.activation\n",
    "        for i in range(self.num_layers):\n",
    "            if i == self.num_layers - 1:\n",
    "                x = F.softmax(self.fc[i](x), dim=1)\n",
    "            else:\n",
    "                x = self.dropout(activation(self.fc[i](x)))\n",
    "        return x"
   ]
  },
  {
   "cell_type": "markdown",
   "metadata": {},
   "source": [
    "The cell below handles all the MLP Variables"
   ]
  },
  {
   "cell_type": "code",
   "execution_count": 66,
   "metadata": {},
   "outputs": [
    {
     "name": "stdout",
     "output_type": "stream",
     "text": [
      "Net(\n",
      "  (fc): ModuleList(\n",
      "    (0): Linear(in_features=768, out_features=500, bias=True)\n",
      "    (1): Linear(in_features=500, out_features=250, bias=True)\n",
      "    (2): Linear(in_features=250, out_features=5, bias=True)\n",
      "  )\n",
      "  (dropout): Dropout(p=0, inplace=False)\n",
      ")\n"
     ]
    }
   ],
   "source": [
    "# Learning Rate Decay\n",
    "LR_START  = 1e-1\n",
    "LR_END    = 1e-4\n",
    "LR_GAMMA  = (LR_END/LR_START)**(1/NUM_EPOCH)\n",
    "\n",
    "NUM_EPOCH = 10000\n",
    "dropout = 0\n",
    "hidden_layers = [[768, 500], [500, 250], [250, 5]]\n",
    "activation_func = F.sigmoid\n",
    "\n",
    "net = Net(  h_sizes=hidden_layers,\n",
    "            dropout=dropout, \n",
    "            activation=activation_func).to(device)\n",
    "\n",
    "print(net)\n",
    "\n",
    "optimizer = torch.optim.SGD(net.parameters(), lr=LR_START, momentum=0.9)\n",
    "criterion = torch.nn.MSELoss().to(device)\n",
    "scheduler = ExponentialLR(optimizer, gamma=LR_GAMMA)\n",
    "MSE_vec   = MSE_Vec_matrix(mid=1)\n",
    "MSE_vec.to(device)"
   ]
  },
  {
   "cell_type": "code",
   "execution_count": 62,
   "metadata": {},
   "outputs": [],
   "source": [
    "X_train = X_train.to(device)\n",
    "y_train = y_train.long().to(device)\n",
    "X_test  = X_test.to(device)"
   ]
  },
  {
   "cell_type": "markdown",
   "metadata": {},
   "source": [
    "$$\n",
    "\\gamma = \\left( \\frac{\\alpha}{\\beta} \\right)^{\\frac{1}{e}}\n",
    "$$\n",
    "\n",
    "gamma is decay rate\n",
    "\n",
    "beta is start learning rate\n",
    "\n",
    "alpha is ending learning rate\n",
    "\n",
    "e is number of epochs"
   ]
  },
  {
   "cell_type": "code",
   "execution_count": 79,
   "metadata": {
    "scrolled": true
   },
   "outputs": [
    {
     "name": "stdout",
     "output_type": "stream",
     "text": [
      "[1] loss: 201.457 \t test loss: 1.280 \t test_ac1: 0.47 \t test_ac2: 0.70\n",
      "[2] loss: 201.487 \t test loss: 1.295 \t test_ac1: 0.46 \t test_ac2: 0.69\n"
     ]
    },
    {
     "ename": "KeyboardInterrupt",
     "evalue": "",
     "output_type": "error",
     "traceback": [
      "\u001b[1;31m---------------------------------------------------------------------------\u001b[0m",
      "\u001b[1;31mKeyboardInterrupt\u001b[0m                         Traceback (most recent call last)",
      "\u001b[1;32mc:\\Users\\Aymane\\GitHub\\EC523\\Encoding_Scratchbook.ipynb Cell 11'\u001b[0m in \u001b[0;36m<cell line: 8>\u001b[1;34m()\u001b[0m\n\u001b[0;32m     <a href='vscode-notebook-cell:/c%3A/Users/Aymane/GitHub/EC523/Encoding_Scratchbook.ipynb#ch0000010?line=11'>12</a>\u001b[0m select \u001b[39m=\u001b[39m batch_size \u001b[39m*\u001b[39m i \u001b[39m+\u001b[39m indecies\n\u001b[0;32m     <a href='vscode-notebook-cell:/c%3A/Users/Aymane/GitHub/EC523/Encoding_Scratchbook.ipynb#ch0000010?line=12'>13</a>\u001b[0m optimizer\u001b[39m.\u001b[39mzero_grad()\n\u001b[1;32m---> <a href='vscode-notebook-cell:/c%3A/Users/Aymane/GitHub/EC523/Encoding_Scratchbook.ipynb#ch0000010?line=13'>14</a>\u001b[0m outputs \u001b[39m=\u001b[39m net(X_train[select,:])\n\u001b[0;32m     <a href='vscode-notebook-cell:/c%3A/Users/Aymane/GitHub/EC523/Encoding_Scratchbook.ipynb#ch0000010?line=15'>16</a>\u001b[0m \u001b[39m# MSE Loss\u001b[39;00m\n\u001b[0;32m     <a href='vscode-notebook-cell:/c%3A/Users/Aymane/GitHub/EC523/Encoding_Scratchbook.ipynb#ch0000010?line=16'>17</a>\u001b[0m loss \u001b[39m=\u001b[39m criterion(outputs, MSE_vec[y_train[select]])\n",
      "File \u001b[1;32mc:\\Users\\Aymane\\AppData\\Local\\Programs\\Python\\Python39\\lib\\site-packages\\torch\\nn\\modules\\module.py:889\u001b[0m, in \u001b[0;36mModule._call_impl\u001b[1;34m(self, *input, **kwargs)\u001b[0m\n\u001b[0;32m    <a href='file:///c%3A/Users/Aymane/AppData/Local/Programs/Python/Python39/lib/site-packages/torch/nn/modules/module.py?line=886'>887</a>\u001b[0m     result \u001b[39m=\u001b[39m \u001b[39mself\u001b[39m\u001b[39m.\u001b[39m_slow_forward(\u001b[39m*\u001b[39m\u001b[39minput\u001b[39m, \u001b[39m*\u001b[39m\u001b[39m*\u001b[39mkwargs)\n\u001b[0;32m    <a href='file:///c%3A/Users/Aymane/AppData/Local/Programs/Python/Python39/lib/site-packages/torch/nn/modules/module.py?line=887'>888</a>\u001b[0m \u001b[39melse\u001b[39;00m:\n\u001b[1;32m--> <a href='file:///c%3A/Users/Aymane/AppData/Local/Programs/Python/Python39/lib/site-packages/torch/nn/modules/module.py?line=888'>889</a>\u001b[0m     result \u001b[39m=\u001b[39m \u001b[39mself\u001b[39m\u001b[39m.\u001b[39mforward(\u001b[39m*\u001b[39m\u001b[39minput\u001b[39m, \u001b[39m*\u001b[39m\u001b[39m*\u001b[39mkwargs)\n\u001b[0;32m    <a href='file:///c%3A/Users/Aymane/AppData/Local/Programs/Python/Python39/lib/site-packages/torch/nn/modules/module.py?line=889'>890</a>\u001b[0m \u001b[39mfor\u001b[39;00m hook \u001b[39min\u001b[39;00m itertools\u001b[39m.\u001b[39mchain(\n\u001b[0;32m    <a href='file:///c%3A/Users/Aymane/AppData/Local/Programs/Python/Python39/lib/site-packages/torch/nn/modules/module.py?line=890'>891</a>\u001b[0m         _global_forward_hooks\u001b[39m.\u001b[39mvalues(),\n\u001b[0;32m    <a href='file:///c%3A/Users/Aymane/AppData/Local/Programs/Python/Python39/lib/site-packages/torch/nn/modules/module.py?line=891'>892</a>\u001b[0m         \u001b[39mself\u001b[39m\u001b[39m.\u001b[39m_forward_hooks\u001b[39m.\u001b[39mvalues()):\n\u001b[0;32m    <a href='file:///c%3A/Users/Aymane/AppData/Local/Programs/Python/Python39/lib/site-packages/torch/nn/modules/module.py?line=892'>893</a>\u001b[0m     hook_result \u001b[39m=\u001b[39m hook(\u001b[39mself\u001b[39m, \u001b[39minput\u001b[39m, result)\n",
      "\u001b[1;32mc:\\Users\\Aymane\\GitHub\\EC523\\Encoding_Scratchbook.ipynb Cell 7'\u001b[0m in \u001b[0;36mNet.forward\u001b[1;34m(self, x)\u001b[0m\n\u001b[0;32m     <a href='vscode-notebook-cell:/c%3A/Users/Aymane/GitHub/EC523/Encoding_Scratchbook.ipynb#ch0000006?line=26'>27</a>\u001b[0m         x \u001b[39m=\u001b[39m F\u001b[39m.\u001b[39msoftmax(\u001b[39mself\u001b[39m\u001b[39m.\u001b[39mfc[i](x), dim\u001b[39m=\u001b[39m\u001b[39m1\u001b[39m)\n\u001b[0;32m     <a href='vscode-notebook-cell:/c%3A/Users/Aymane/GitHub/EC523/Encoding_Scratchbook.ipynb#ch0000006?line=27'>28</a>\u001b[0m     \u001b[39melse\u001b[39;00m:\n\u001b[1;32m---> <a href='vscode-notebook-cell:/c%3A/Users/Aymane/GitHub/EC523/Encoding_Scratchbook.ipynb#ch0000006?line=28'>29</a>\u001b[0m         x \u001b[39m=\u001b[39m \u001b[39mself\u001b[39m\u001b[39m.\u001b[39mdropout(activation(\u001b[39mself\u001b[39;49m\u001b[39m.\u001b[39;49mfc[i](x)))\n\u001b[0;32m     <a href='vscode-notebook-cell:/c%3A/Users/Aymane/GitHub/EC523/Encoding_Scratchbook.ipynb#ch0000006?line=29'>30</a>\u001b[0m \u001b[39m# x = activation(self.fc1(x))\u001b[39;00m\n\u001b[0;32m     <a href='vscode-notebook-cell:/c%3A/Users/Aymane/GitHub/EC523/Encoding_Scratchbook.ipynb#ch0000006?line=30'>31</a>\u001b[0m \u001b[39m# x = activation(self.fc2(x))\u001b[39;00m\n\u001b[0;32m     <a href='vscode-notebook-cell:/c%3A/Users/Aymane/GitHub/EC523/Encoding_Scratchbook.ipynb#ch0000006?line=31'>32</a>\u001b[0m \u001b[39m# x = activation(self.fc3(x))\u001b[39;00m\n\u001b[0;32m     <a href='vscode-notebook-cell:/c%3A/Users/Aymane/GitHub/EC523/Encoding_Scratchbook.ipynb#ch0000006?line=32'>33</a>\u001b[0m \u001b[39m# x = activation(self.fc4(x))\u001b[39;00m\n\u001b[0;32m     <a href='vscode-notebook-cell:/c%3A/Users/Aymane/GitHub/EC523/Encoding_Scratchbook.ipynb#ch0000006?line=33'>34</a>\u001b[0m \u001b[39m# x = activation(self.fc5(x))\u001b[39;00m\n\u001b[0;32m     <a href='vscode-notebook-cell:/c%3A/Users/Aymane/GitHub/EC523/Encoding_Scratchbook.ipynb#ch0000006?line=34'>35</a>\u001b[0m \u001b[39mreturn\u001b[39;00m x\n",
      "File \u001b[1;32mc:\\Users\\Aymane\\AppData\\Local\\Programs\\Python\\Python39\\lib\\site-packages\\torch\\nn\\modules\\module.py:889\u001b[0m, in \u001b[0;36mModule._call_impl\u001b[1;34m(self, *input, **kwargs)\u001b[0m\n\u001b[0;32m    <a href='file:///c%3A/Users/Aymane/AppData/Local/Programs/Python/Python39/lib/site-packages/torch/nn/modules/module.py?line=886'>887</a>\u001b[0m     result \u001b[39m=\u001b[39m \u001b[39mself\u001b[39m\u001b[39m.\u001b[39m_slow_forward(\u001b[39m*\u001b[39m\u001b[39minput\u001b[39m, \u001b[39m*\u001b[39m\u001b[39m*\u001b[39mkwargs)\n\u001b[0;32m    <a href='file:///c%3A/Users/Aymane/AppData/Local/Programs/Python/Python39/lib/site-packages/torch/nn/modules/module.py?line=887'>888</a>\u001b[0m \u001b[39melse\u001b[39;00m:\n\u001b[1;32m--> <a href='file:///c%3A/Users/Aymane/AppData/Local/Programs/Python/Python39/lib/site-packages/torch/nn/modules/module.py?line=888'>889</a>\u001b[0m     result \u001b[39m=\u001b[39m \u001b[39mself\u001b[39m\u001b[39m.\u001b[39mforward(\u001b[39m*\u001b[39m\u001b[39minput\u001b[39m, \u001b[39m*\u001b[39m\u001b[39m*\u001b[39mkwargs)\n\u001b[0;32m    <a href='file:///c%3A/Users/Aymane/AppData/Local/Programs/Python/Python39/lib/site-packages/torch/nn/modules/module.py?line=889'>890</a>\u001b[0m \u001b[39mfor\u001b[39;00m hook \u001b[39min\u001b[39;00m itertools\u001b[39m.\u001b[39mchain(\n\u001b[0;32m    <a href='file:///c%3A/Users/Aymane/AppData/Local/Programs/Python/Python39/lib/site-packages/torch/nn/modules/module.py?line=890'>891</a>\u001b[0m         _global_forward_hooks\u001b[39m.\u001b[39mvalues(),\n\u001b[0;32m    <a href='file:///c%3A/Users/Aymane/AppData/Local/Programs/Python/Python39/lib/site-packages/torch/nn/modules/module.py?line=891'>892</a>\u001b[0m         \u001b[39mself\u001b[39m\u001b[39m.\u001b[39m_forward_hooks\u001b[39m.\u001b[39mvalues()):\n\u001b[0;32m    <a href='file:///c%3A/Users/Aymane/AppData/Local/Programs/Python/Python39/lib/site-packages/torch/nn/modules/module.py?line=892'>893</a>\u001b[0m     hook_result \u001b[39m=\u001b[39m hook(\u001b[39mself\u001b[39m, \u001b[39minput\u001b[39m, result)\n",
      "File \u001b[1;32mc:\\Users\\Aymane\\AppData\\Local\\Programs\\Python\\Python39\\lib\\site-packages\\torch\\nn\\modules\\linear.py:94\u001b[0m, in \u001b[0;36mLinear.forward\u001b[1;34m(self, input)\u001b[0m\n\u001b[0;32m     <a href='file:///c%3A/Users/Aymane/AppData/Local/Programs/Python/Python39/lib/site-packages/torch/nn/modules/linear.py?line=92'>93</a>\u001b[0m \u001b[39mdef\u001b[39;00m \u001b[39mforward\u001b[39m(\u001b[39mself\u001b[39m, \u001b[39minput\u001b[39m: Tensor) \u001b[39m-\u001b[39m\u001b[39m>\u001b[39m Tensor:\n\u001b[1;32m---> <a href='file:///c%3A/Users/Aymane/AppData/Local/Programs/Python/Python39/lib/site-packages/torch/nn/modules/linear.py?line=93'>94</a>\u001b[0m     \u001b[39mreturn\u001b[39;00m F\u001b[39m.\u001b[39;49mlinear(\u001b[39minput\u001b[39;49m, \u001b[39mself\u001b[39;49m\u001b[39m.\u001b[39;49mweight, \u001b[39mself\u001b[39;49m\u001b[39m.\u001b[39;49mbias)\n",
      "File \u001b[1;32mc:\\Users\\Aymane\\AppData\\Local\\Programs\\Python\\Python39\\lib\\site-packages\\torch\\nn\\functional.py:1753\u001b[0m, in \u001b[0;36mlinear\u001b[1;34m(input, weight, bias)\u001b[0m\n\u001b[0;32m   <a href='file:///c%3A/Users/Aymane/AppData/Local/Programs/Python/Python39/lib/site-packages/torch/nn/functional.py?line=1750'>1751</a>\u001b[0m \u001b[39mif\u001b[39;00m has_torch_function_variadic(\u001b[39minput\u001b[39m, weight):\n\u001b[0;32m   <a href='file:///c%3A/Users/Aymane/AppData/Local/Programs/Python/Python39/lib/site-packages/torch/nn/functional.py?line=1751'>1752</a>\u001b[0m     \u001b[39mreturn\u001b[39;00m handle_torch_function(linear, (\u001b[39minput\u001b[39m, weight), \u001b[39minput\u001b[39m, weight, bias\u001b[39m=\u001b[39mbias)\n\u001b[1;32m-> <a href='file:///c%3A/Users/Aymane/AppData/Local/Programs/Python/Python39/lib/site-packages/torch/nn/functional.py?line=1752'>1753</a>\u001b[0m \u001b[39mreturn\u001b[39;00m torch\u001b[39m.\u001b[39;49m_C\u001b[39m.\u001b[39;49m_nn\u001b[39m.\u001b[39;49mlinear(\u001b[39minput\u001b[39;49m, weight, bias)\n",
      "\u001b[1;31mKeyboardInterrupt\u001b[0m: "
     ]
    }
   ],
   "source": [
    "batch_size = 250\n",
    "indecies = torch.tensor(range(batch_size))\n",
    "\n",
    "train_losses = []\n",
    "test_losses = []\n",
    "accuracy1 = []\n",
    "accuracy2 = []\n",
    "for epoch in range(NUM_EPOCH):\n",
    "    running_loss = 0.0\n",
    "    for i in range(len(y_train)//batch_size):\n",
    "    #for i in range(1):\n",
    "        select = batch_size * i + indecies\n",
    "        optimizer.zero_grad()\n",
    "        outputs = net(X_train[select,:])\n",
    "\n",
    "        # MSE Loss\n",
    "        loss = criterion(outputs, MSE_vec[y_train[select]])\n",
    "\n",
    "        # Cross Entropy Loss\n",
    "#         loss = criterion(outputs, y_train[select])\n",
    "\n",
    "        loss.backward()\n",
    "        optimizer.step()\n",
    "        # print statistics\n",
    "        running_loss += loss.item()\n",
    "    with torch.no_grad():\n",
    "        training_loss = criterion(net(X_test),MSE_vec[y_test.long()]).item()\n",
    "        # Added .eval() to account for the added dropout layers\n",
    "        ac1,ac2 = accuracy(net.eval(), X_test, y_test)\n",
    "        accuracy1.append(ac1)\n",
    "        accuracy2.append(ac2)\n",
    "    \n",
    "    print('[%d] loss: %.3f \\t test loss: %.3f \\t test_ac1: %.2f \\t test_ac2: %.2f' %\n",
    "    (epoch + 1, running_loss, training_loss*10,ac1,ac2))\n",
    "    scheduler.step()\n",
    "    \n",
    "train_losses.append(running_loss)\n",
    "test_losses.append(training_loss)\n",
    "running_loss = 0.0\n",
    "\n",
    "  \n",
    "\n",
    "print('Finished Training')\n",
    "plt.plot(train_losses)\n",
    "plt.figure()\n",
    "plt.plot(test_losses)\n",
    "plt.figure()\n",
    "plt.plot(accuracy1)\n",
    "plt.figure()\n",
    "plt.plot(accuracy2)\n"
   ]
  },
  {
   "cell_type": "code",
   "execution_count": 78,
   "metadata": {},
   "outputs": [
    {
     "ename": "TypeError",
     "evalue": "type tuple doesn't define __round__ method",
     "output_type": "error",
     "traceback": [
      "\u001b[1;31m---------------------------------------------------------------------------\u001b[0m",
      "\u001b[1;31mTypeError\u001b[0m                                 Traceback (most recent call last)",
      "\u001b[1;32mc:\\Users\\Aymane\\GitHub\\EC523\\Encoding_Scratchbook.ipynb Cell 12'\u001b[0m in \u001b[0;36m<cell line: 6>\u001b[1;34m()\u001b[0m\n\u001b[0;32m      <a href='vscode-notebook-cell:/c%3A/Users/Aymane/GitHub/EC523/Encoding_Scratchbook.ipynb#ch0000011?line=2'>3</a>\u001b[0m train_acc \u001b[39m=\u001b[39m accuracy(net, X_train\u001b[39m.\u001b[39mcuda(), y_train\u001b[39m.\u001b[39mcuda())\n\u001b[0;32m      <a href='vscode-notebook-cell:/c%3A/Users/Aymane/GitHub/EC523/Encoding_Scratchbook.ipynb#ch0000011?line=3'>4</a>\u001b[0m test_acc \u001b[39m=\u001b[39m accuracy(net, X_test, y_test)\n\u001b[1;32m----> <a href='vscode-notebook-cell:/c%3A/Users/Aymane/GitHub/EC523/Encoding_Scratchbook.ipynb#ch0000011?line=5'>6</a>\u001b[0m \u001b[39mprint\u001b[39m(\u001b[39m\"\u001b[39m\u001b[39mTrain: \u001b[39m\u001b[39m\"\u001b[39m, \u001b[39mround\u001b[39;49m(train_acc, \u001b[39m2\u001b[39;49m))\n\u001b[0;32m      <a href='vscode-notebook-cell:/c%3A/Users/Aymane/GitHub/EC523/Encoding_Scratchbook.ipynb#ch0000011?line=6'>7</a>\u001b[0m \u001b[39mprint\u001b[39m(\u001b[39m\"\u001b[39m\u001b[39mTest:  \u001b[39m\u001b[39m\"\u001b[39m, test_acc)\n",
      "\u001b[1;31mTypeError\u001b[0m: type tuple doesn't define __round__ method"
     ]
    }
   ],
   "source": [
    "net = net.eval()\n",
    "\n",
    "train_acc = accuracy(net, X_train.cuda(), y_train.cuda())\n",
    "test_acc = accuracy(net, X_test, y_test)"
   ]
  }
 ],
 "metadata": {
  "colab": {
   "collapsed_sections": [],
   "name": "Encoding_Scratchbook.ipynb",
   "provenance": []
  },
  "kernelspec": {
   "display_name": "Python 3 (ipykernel)",
   "language": "python",
   "name": "python3"
  },
  "language_info": {
   "codemirror_mode": {
    "name": "ipython",
    "version": 3
   },
   "file_extension": ".py",
   "mimetype": "text/x-python",
   "name": "python",
   "nbconvert_exporter": "python",
   "pygments_lexer": "ipython3",
   "version": "3.10.4"
  }
 },
 "nbformat": 4,
 "nbformat_minor": 1
}
