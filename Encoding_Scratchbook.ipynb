{
  "cells": [
    {
      "cell_type": "code",
      "execution_count": 107,
      "metadata": {},
      "outputs": [],
      "source": [
        "import dataprocess as dp\n",
        "import transformers\n",
        "from sklearn.model_selection import train_test_split\n",
        "import torch\n",
        "import numpy as np\n",
        "import torch\n",
        "import torch.nn as nn\n",
        "import torch.nn.functional as F\n",
        "import matplotlib.pyplot as plt\n",
        "from torch.optim.lr_scheduler import ExponentialLR\n",
        "from modelhelper import MSE_Vec_matrix\n",
        "\n",
        "#TODO Normalize Xtest\n",
        "#Make our own loss function\n",
        "\n",
        "# Hyperparameters\n",
        "# Batch Size, Num Epochs, Learning Rate, Momentum, FC Layer, Activation Function\n",
        "\n",
        "\n",
        "# 0 Lowercase & N2W\n",
        "# 1 Contractions\n",
        "# 2 Remove Punctutations\n",
        "# 3 Strop Words\n",
        "\n",
        "num_training = 500000\n",
        "\n",
        "device = torch.device(\"cuda\" if torch.cuda.is_available() else \"cpu\")\n",
        "\n",
        "def accuracy(net, input_id, labels):\n",
        "    j = len(labels)\n",
        "\n",
        "    guesses = torch.argsort(net(input_id), dim=1, descending=True)\n",
        "    print(\"GUESS: \", guesses[:,0])\n",
        "\n",
        "    # guess1 = torch.argmax(guesses, dim=1)\n",
        "    # guess2 = torch.argsort(guesses, dim=1)[-2]\n",
        "\n",
        "\n",
        "    # current_real = torch.tensor(labels)\n",
        "    current_real = labels.clone().detach()\n",
        "    print(\"LABEL: \", current_real)\n",
        "\n",
        "    top1_acc = torch.sum(current_real==guesses[:,0])\n",
        "    top2_acc = torch.sum(current_real==guesses[:,1])\n",
        "\n",
        "\n",
        "    # print(guesses[:100])\n",
        "    # print(current_real[:100])\n",
        "    # print(\"Guess: \", guesses, \"Label: \", current_real)\n",
        "\n",
        "    accuracy_1 = top1_acc / j\n",
        "    accuracy_2 = (top2_acc + top1_acc) / j\n",
        "    # print(running_acc)\n",
        "    # print(j)\n",
        "\n",
        "    print('Accuracy for top 1: %d %%' % ((accuracy_1) * 100.0))\n",
        "    print('Accuracy for top 2: %d %%' % ((accuracy_2) * 100.0))\n",
        "\n",
        "    return accuracy_1, accuracy_2\n",
        "\n",
        "    "
      ]
    },
    {
      "cell_type": "code",
      "execution_count": 54,
      "metadata": {
        "id": "XPZGj9r3Hxh9"
      },
      "outputs": [],
      "source": [
        "# !cd GitHub/EC523_Project/\n",
        "# !pip install transformers"
      ]
    },
    {
      "cell_type": "code",
      "execution_count": 60,
      "metadata": {
        "colab": {
          "base_uri": "https://localhost:8080/",
          "height": 287
        },
        "id": "baOdHRG1DcV5",
        "outputId": "45b0f0fc-aee2-43ed-e517-f040c211c168"
      },
      "outputs": [],
      "source": [
        "path = r\"C:\\Users\\Aymane\\GitHub\\EC523_Project\\data\\Electronics\\BERT Tokenized\\reviews_Electronics_5_15_tokenized.pickle\"\n",
        "data = dp.unpickle_data(path)"
      ]
    },
    {
      "cell_type": "code",
      "execution_count": 61,
      "metadata": {
        "id": "gM-RhO-KHl9I"
      },
      "outputs": [],
      "source": [
        "input_ids = data[\"reviewText\"][\"input_ids\"][:num_training]\n",
        "attention_mask = data[\"reviewText\"][\"attention_mask\"][:num_training]"
      ]
    },
    {
      "cell_type": "code",
      "execution_count": null,
      "metadata": {},
      "outputs": [],
      "source": [
        "data[\"reviewText\"] = dp.encode_data_BERT(input_ids, attention_mask, batch_size=5)\n",
        "\n",
        "dp.pickle_data(data, \"test_data_aymane_5_15.pickle\")"
      ]
    },
    {
      "cell_type": "code",
      "execution_count": 13,
      "metadata": {},
      "outputs": [],
      "source": [
        "data = dp.unpickle_data(r\"reviews_Electronics_5_7_encoded.pickle\")"
      ]
    },
    {
      "cell_type": "code",
      "execution_count": 71,
      "metadata": {},
      "outputs": [
        {
          "name": "stdout",
          "output_type": "stream",
          "text": [
            "torch.Size([500000, 768])\n",
            "500000\n"
          ]
        }
      ],
      "source": [
        "sentences = data['reviewText'][:num_training]\n",
        "labels = data['overall'][:num_training]\n",
        "print(sentences.shape)\n",
        "print(len(labels))"
      ]
    },
    {
      "cell_type": "code",
      "execution_count": 72,
      "metadata": {},
      "outputs": [
        {
          "name": "stderr",
          "output_type": "stream",
          "text": [
            "C:\\Users\\Aymane\\AppData\\Local\\Temp\\ipykernel_13924\\2229738559.py:4: UserWarning: To copy construct from a tensor, it is recommended to use sourceTensor.clone().detach() or sourceTensor.clone().detach().requires_grad_(True), rather than torch.tensor(sourceTensor).\n",
            "  X_test = torch.tensor(X_test).cuda()\n"
          ]
        },
        {
          "name": "stdout",
          "output_type": "stream",
          "text": [
            "tensor([2., 4., 4.,  ..., 1., 3., 4.], device='cuda:0')\n"
          ]
        }
      ],
      "source": [
        "X_train, X_test, y_train, y_test = train_test_split(sentences, labels, test_size=0.1, random_state=42, stratify=labels)\n",
        "X_test, X_val, y_test, y_val = train_test_split(X_test, y_test, test_size=0.5, random_state=42, stratify=y_test)\n",
        "\n",
        "X_test = torch.tensor(X_test).cuda()\n",
        "y_test = torch.tensor(y_test).cuda()\n",
        "\n",
        "for i in range(len(y_test)):\n",
        "    y_test[i] = y_test[i] - 1 \n",
        "\n",
        "print(y_test)\n",
        "\n",
        "# indecies = torch.permute(indecies)\n",
        "# X_train = X_train[indexes,:]\n",
        "\n",
        "X_train = X_train.clone().detach()\n",
        "y_train = torch.tensor(y_train)"
      ]
    },
    {
      "cell_type": "code",
      "execution_count": 73,
      "metadata": {},
      "outputs": [],
      "source": [
        "rev1 = X_train[y_train==1]\n",
        "rev2 = X_train[y_train==2]\n",
        "rev3 = X_train[y_train==3]\n",
        "rev4 = X_train[y_train==4]\n",
        "rev5 = X_train[y_train==5]\n",
        "\n",
        "training_points = min(len(rev1), len(rev2), len(rev3), len(rev4), len(rev5))\n",
        "\n",
        "rev1 = rev1 [:training_points]\n",
        "rev2 = rev2 [:training_points]\n",
        "rev3 = rev3 [:training_points]\n",
        "rev4 = rev4 [:training_points]\n",
        "rev5 = rev5 [:training_points]\n",
        "\n",
        "indicies = torch.randperm(training_points * 5)\n",
        "\n",
        "X_train = torch.cat((rev1, rev2, rev3, rev4, rev5), dim=0)[indicies, :]\n",
        "base = torch.zeros(training_points)\n",
        "y_train = torch.cat((base,base+1,base+2,base+3,base+4))[indicies]\n"
      ]
    },
    {
      "cell_type": "code",
      "execution_count": 95,
      "metadata": {},
      "outputs": [],
      "source": [
        "class Net(nn.Module):\n",
        "    def __init__(self, output_dim=5, dropout=0.5,activation=F.sigmoid):\n",
        "\n",
        "        # self.loss = torch.nn.MSELoss()\n",
        "        super(Net, self).__init__()\n",
        "        self.dropout = nn.Dropout(dropout)\n",
        "        self.activation = activation\n",
        "        self.fc1 = nn.Linear(768, 600)\n",
        "        self.fc2 = nn.Linear(600, 500)\n",
        "        self.fc3 = nn.Linear(500, 425)\n",
        "        self.fc4 = nn.Linear(425, 350)\n",
        "        self.fc5 = nn.Linear(350, 200)\n",
        "        self.fc6 = nn.Linear(200, 100)\n",
        "        self.fc7 = nn.Linear(100, 50)\n",
        "        self.fc8 = nn.Linear(50, output_dim)\n",
        "\n",
        "    #def forward(self, input_id, mask):\n",
        "    def forward(self, X_train):\n",
        "        activation = self.activation\n",
        "        x = self.dropout(X_train)\n",
        "        x = activation(self.fc1(x))\n",
        "        x = activation(self.fc2(x))\n",
        "        x = activation(self.fc3(x))\n",
        "        x = activation(self.fc4(x))\n",
        "        x = activation(self.fc5(x))\n",
        "        x = activation(self.fc6(x))\n",
        "        x = activation(self.fc7(x))\n",
        "        x = F.softmax(self.fc8(x), dim=1)\n",
        "        return x"
      ]
    },
    {
      "cell_type": "code",
      "execution_count": 157,
      "metadata": {},
      "outputs": [],
      "source": [
        "# criterion = torch.nn.MSELoss().to(device)\n",
        "# optimizer = torch.optim.Adam(net.parameters(), lr=1e-2)\n",
        "NUM_EPOCH = 2000\n",
        "LR_START  = 2e-2\n",
        "LR_END    = 2e-2\n",
        "LR_GAMMA  = (LR_END/LR_START)**(1/NUM_EPOCH)\n",
        "\n",
        "# net = Net(output_dim=5,dropout=0, activation=F.relu).to(device)\n",
        "\n",
        "optimizer = torch.optim.SGD(net.parameters(), lr=LR_START, momentum=0.9)\n",
        "criterion = torch.nn.CrossEntropyLoss().to(device)\n",
        "# criterion = torch.nn.MSELoss().to(device)\n",
        "scheduler = ExponentialLR(optimizer, gamma=LR_GAMMA)\n",
        "MSE_vec   = MSE_Vec_matrix(mid=0.8)\n",
        "MSE_vec.to(device)"
      ]
    },
    {
      "cell_type": "code",
      "execution_count": 146,
      "metadata": {},
      "outputs": [],
      "source": [
        "X_train = X_train.to(device)\n",
        "y_train = y_train.long().to(device)"
      ]
    },
    {
      "cell_type": "markdown",
      "metadata": {},
      "source": [
        "$$\n",
        "\\gamma = \\left( \\frac{\\alpha}{\\beta} \\right)^{\\frac{1}{e}}\n",
        "$$\n",
        "\n",
        "gamma is decay rate\n",
        "\n",
        "beta is start learning rate\n",
        "\n",
        "alpha is ending learning rate\n",
        "\n",
        "e is number of epochs"
      ]
    },
    {
      "cell_type": "code",
      "execution_count": 161,
      "metadata": {},
      "outputs": [
        {
          "name": "stdout",
          "output_type": "stream",
          "text": [
            "[1] loss: 1.008\n",
            "[2] loss: 1.007\n",
            "[3] loss: 1.009\n",
            "[4] loss: 1.003\n",
            "[5] loss: 1.005\n"
          ]
        }
      ],
      "source": [
        "batch_size = 400\n",
        "indecies = torch.tensor(range(batch_size))\n",
        "\n",
        "losses = []\n",
        "for epoch in range(NUM_EPOCH):\n",
        "    running_loss = 0.0\n",
        "    for i in range(len(y_train)//batch_size):\n",
        "    #for i in range(1):\n",
        "        select = batch_size * i + indecies\n",
        "        optimizer.zero_grad()\n",
        "        outputs = net(X_train[select,:])\n",
        "\n",
        "        # MSE Loss\n",
        "        # loss = criterion(outputs, MSE_vec[y_train[select]])\n",
        "\n",
        "        # Cross Entropy Loss\n",
        "        loss = criterion(outputs, y_train[select])\n",
        "\n",
        "        loss.backward()\n",
        "        optimizer.step()\n",
        "        # print statistics\n",
        "        running_loss += loss.item()\n",
        "    print('[%d] loss: %.3f' %\n",
        "        (epoch + 1, running_loss/batch_size))\n",
        "        \n",
        "    losses.append(running_loss/batch_size)\n",
        "    running_loss = 0.0\n",
        "\n",
        "    scheduler.step()\n",
        "  \n",
        "\n",
        "print('Finished Training')\n",
        "plt.plot(losses)\n"
      ]
    },
    {
      "cell_type": "code",
      "execution_count": 160,
      "metadata": {},
      "outputs": [
        {
          "name": "stdout",
          "output_type": "stream",
          "text": [
            "GUESS:  tensor([4, 4, 0,  ..., 0, 3, 4], device='cuda:0')\n",
            "LABEL:  tensor([4, 4, 0,  ..., 1, 0, 2], device='cuda:0')\n",
            "Accuracy for top 1: 41 %\n",
            "Accuracy for top 2: 66 %\n",
            "GUESS:  tensor([0, 2, 4,  ..., 0, 2, 0], device='cuda:0')\n",
            "LABEL:  tensor([2., 4., 4.,  ..., 1., 3., 4.], device='cuda:0')\n",
            "Accuracy for top 1: 49 %\n",
            "Accuracy for top 2: 70 %\n"
          ]
        }
      ],
      "source": [
        "# net = net.eval()\n",
        "\n",
        "train_acc = accuracy(net, X_train.cuda(), y_train.cuda())\n",
        "test_acc = accuracy(net, X_test, y_test)"
      ]
    }
  ],
  "metadata": {
    "colab": {
      "collapsed_sections": [],
      "name": "Encoding_Scratchbook.ipynb",
      "provenance": []
    },
    "kernelspec": {
      "display_name": "Python 3",
      "name": "python3"
    },
    "language_info": {
      "codemirror_mode": {
        "name": "ipython",
        "version": 3
      },
      "file_extension": ".py",
      "mimetype": "text/x-python",
      "name": "python",
      "nbconvert_exporter": "python",
      "pygments_lexer": "ipython3",
      "version": "3.9.3"
    }
  },
  "nbformat": 4,
  "nbformat_minor": 0
}
